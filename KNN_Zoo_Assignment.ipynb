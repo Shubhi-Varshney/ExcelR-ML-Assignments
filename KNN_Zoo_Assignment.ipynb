{
 "cells": [
  {
   "cell_type": "code",
   "execution_count": 1,
   "id": "633c007c",
   "metadata": {},
   "outputs": [],
   "source": [
    "import pandas as pd"
   ]
  },
  {
   "cell_type": "code",
   "execution_count": 2,
   "id": "469c92de",
   "metadata": {},
   "outputs": [],
   "source": [
    "data = pd.read_csv('zoo.csv')"
   ]
  },
  {
   "cell_type": "code",
   "execution_count": 3,
   "id": "1998fd4f",
   "metadata": {},
   "outputs": [
    {
     "data": {
      "text/html": [
       "<div>\n",
       "<style scoped>\n",
       "    .dataframe tbody tr th:only-of-type {\n",
       "        vertical-align: middle;\n",
       "    }\n",
       "\n",
       "    .dataframe tbody tr th {\n",
       "        vertical-align: top;\n",
       "    }\n",
       "\n",
       "    .dataframe thead th {\n",
       "        text-align: right;\n",
       "    }\n",
       "</style>\n",
       "<table border=\"1\" class=\"dataframe\">\n",
       "  <thead>\n",
       "    <tr style=\"text-align: right;\">\n",
       "      <th></th>\n",
       "      <th>animal name</th>\n",
       "      <th>hair</th>\n",
       "      <th>feathers</th>\n",
       "      <th>eggs</th>\n",
       "      <th>milk</th>\n",
       "      <th>airborne</th>\n",
       "      <th>aquatic</th>\n",
       "      <th>predator</th>\n",
       "      <th>toothed</th>\n",
       "      <th>backbone</th>\n",
       "      <th>breathes</th>\n",
       "      <th>venomous</th>\n",
       "      <th>fins</th>\n",
       "      <th>legs</th>\n",
       "      <th>tail</th>\n",
       "      <th>domestic</th>\n",
       "      <th>catsize</th>\n",
       "      <th>type</th>\n",
       "    </tr>\n",
       "  </thead>\n",
       "  <tbody>\n",
       "    <tr>\n",
       "      <th>0</th>\n",
       "      <td>aardvark</td>\n",
       "      <td>1</td>\n",
       "      <td>0</td>\n",
       "      <td>0</td>\n",
       "      <td>1</td>\n",
       "      <td>0</td>\n",
       "      <td>0</td>\n",
       "      <td>1</td>\n",
       "      <td>1</td>\n",
       "      <td>1</td>\n",
       "      <td>1</td>\n",
       "      <td>0</td>\n",
       "      <td>0</td>\n",
       "      <td>4</td>\n",
       "      <td>0</td>\n",
       "      <td>0</td>\n",
       "      <td>1</td>\n",
       "      <td>1</td>\n",
       "    </tr>\n",
       "    <tr>\n",
       "      <th>1</th>\n",
       "      <td>antelope</td>\n",
       "      <td>1</td>\n",
       "      <td>0</td>\n",
       "      <td>0</td>\n",
       "      <td>1</td>\n",
       "      <td>0</td>\n",
       "      <td>0</td>\n",
       "      <td>0</td>\n",
       "      <td>1</td>\n",
       "      <td>1</td>\n",
       "      <td>1</td>\n",
       "      <td>0</td>\n",
       "      <td>0</td>\n",
       "      <td>4</td>\n",
       "      <td>1</td>\n",
       "      <td>0</td>\n",
       "      <td>1</td>\n",
       "      <td>1</td>\n",
       "    </tr>\n",
       "    <tr>\n",
       "      <th>2</th>\n",
       "      <td>bass</td>\n",
       "      <td>0</td>\n",
       "      <td>0</td>\n",
       "      <td>1</td>\n",
       "      <td>0</td>\n",
       "      <td>0</td>\n",
       "      <td>1</td>\n",
       "      <td>1</td>\n",
       "      <td>1</td>\n",
       "      <td>1</td>\n",
       "      <td>0</td>\n",
       "      <td>0</td>\n",
       "      <td>1</td>\n",
       "      <td>0</td>\n",
       "      <td>1</td>\n",
       "      <td>0</td>\n",
       "      <td>0</td>\n",
       "      <td>4</td>\n",
       "    </tr>\n",
       "    <tr>\n",
       "      <th>3</th>\n",
       "      <td>bear</td>\n",
       "      <td>1</td>\n",
       "      <td>0</td>\n",
       "      <td>0</td>\n",
       "      <td>1</td>\n",
       "      <td>0</td>\n",
       "      <td>0</td>\n",
       "      <td>1</td>\n",
       "      <td>1</td>\n",
       "      <td>1</td>\n",
       "      <td>1</td>\n",
       "      <td>0</td>\n",
       "      <td>0</td>\n",
       "      <td>4</td>\n",
       "      <td>0</td>\n",
       "      <td>0</td>\n",
       "      <td>1</td>\n",
       "      <td>1</td>\n",
       "    </tr>\n",
       "    <tr>\n",
       "      <th>4</th>\n",
       "      <td>boar</td>\n",
       "      <td>1</td>\n",
       "      <td>0</td>\n",
       "      <td>0</td>\n",
       "      <td>1</td>\n",
       "      <td>0</td>\n",
       "      <td>0</td>\n",
       "      <td>1</td>\n",
       "      <td>1</td>\n",
       "      <td>1</td>\n",
       "      <td>1</td>\n",
       "      <td>0</td>\n",
       "      <td>0</td>\n",
       "      <td>4</td>\n",
       "      <td>1</td>\n",
       "      <td>0</td>\n",
       "      <td>1</td>\n",
       "      <td>1</td>\n",
       "    </tr>\n",
       "  </tbody>\n",
       "</table>\n",
       "</div>"
      ],
      "text/plain": [
       "  animal name  hair  feathers  eggs  milk  airborne  aquatic  predator  \\\n",
       "0    aardvark     1         0     0     1         0        0         1   \n",
       "1    antelope     1         0     0     1         0        0         0   \n",
       "2        bass     0         0     1     0         0        1         1   \n",
       "3        bear     1         0     0     1         0        0         1   \n",
       "4        boar     1         0     0     1         0        0         1   \n",
       "\n",
       "   toothed  backbone  breathes  venomous  fins  legs  tail  domestic  catsize  \\\n",
       "0        1         1         1         0     0     4     0         0        1   \n",
       "1        1         1         1         0     0     4     1         0        1   \n",
       "2        1         1         0         0     1     0     1         0        0   \n",
       "3        1         1         1         0     0     4     0         0        1   \n",
       "4        1         1         1         0     0     4     1         0        1   \n",
       "\n",
       "   type  \n",
       "0     1  \n",
       "1     1  \n",
       "2     4  \n",
       "3     1  \n",
       "4     1  "
      ]
     },
     "execution_count": 3,
     "metadata": {},
     "output_type": "execute_result"
    }
   ],
   "source": [
    "data.head()"
   ]
  },
  {
   "cell_type": "code",
   "execution_count": 4,
   "id": "4bd57994",
   "metadata": {},
   "outputs": [
    {
     "data": {
      "text/plain": [
       "1    41\n",
       "2    20\n",
       "4    13\n",
       "7    10\n",
       "6     8\n",
       "3     5\n",
       "5     4\n",
       "Name: type, dtype: int64"
      ]
     },
     "execution_count": 4,
     "metadata": {},
     "output_type": "execute_result"
    }
   ],
   "source": [
    "data['type'].value_counts()\n",
    "# This shows that this is a imbalanced multi class dataset, hence will use \n",
    "# 1. stratify while splitting\n",
    "# 2. the averaging method = macro [airthmetic mean] as all animal types (classes) are equally important"
   ]
  },
  {
   "cell_type": "code",
   "execution_count": 5,
   "id": "677e12f9",
   "metadata": {},
   "outputs": [
    {
     "data": {
      "text/html": [
       "<div>\n",
       "<style scoped>\n",
       "    .dataframe tbody tr th:only-of-type {\n",
       "        vertical-align: middle;\n",
       "    }\n",
       "\n",
       "    .dataframe tbody tr th {\n",
       "        vertical-align: top;\n",
       "    }\n",
       "\n",
       "    .dataframe thead th {\n",
       "        text-align: right;\n",
       "    }\n",
       "</style>\n",
       "<table border=\"1\" class=\"dataframe\">\n",
       "  <thead>\n",
       "    <tr style=\"text-align: right;\">\n",
       "      <th></th>\n",
       "      <th>hair</th>\n",
       "      <th>feathers</th>\n",
       "      <th>eggs</th>\n",
       "      <th>milk</th>\n",
       "      <th>airborne</th>\n",
       "      <th>aquatic</th>\n",
       "      <th>predator</th>\n",
       "      <th>toothed</th>\n",
       "      <th>backbone</th>\n",
       "      <th>breathes</th>\n",
       "      <th>venomous</th>\n",
       "      <th>fins</th>\n",
       "      <th>legs</th>\n",
       "      <th>tail</th>\n",
       "      <th>domestic</th>\n",
       "      <th>catsize</th>\n",
       "      <th>type</th>\n",
       "    </tr>\n",
       "  </thead>\n",
       "  <tbody>\n",
       "    <tr>\n",
       "      <th>0</th>\n",
       "      <td>1</td>\n",
       "      <td>0</td>\n",
       "      <td>0</td>\n",
       "      <td>1</td>\n",
       "      <td>0</td>\n",
       "      <td>0</td>\n",
       "      <td>1</td>\n",
       "      <td>1</td>\n",
       "      <td>1</td>\n",
       "      <td>1</td>\n",
       "      <td>0</td>\n",
       "      <td>0</td>\n",
       "      <td>4</td>\n",
       "      <td>0</td>\n",
       "      <td>0</td>\n",
       "      <td>1</td>\n",
       "      <td>1</td>\n",
       "    </tr>\n",
       "    <tr>\n",
       "      <th>1</th>\n",
       "      <td>1</td>\n",
       "      <td>0</td>\n",
       "      <td>0</td>\n",
       "      <td>1</td>\n",
       "      <td>0</td>\n",
       "      <td>0</td>\n",
       "      <td>0</td>\n",
       "      <td>1</td>\n",
       "      <td>1</td>\n",
       "      <td>1</td>\n",
       "      <td>0</td>\n",
       "      <td>0</td>\n",
       "      <td>4</td>\n",
       "      <td>1</td>\n",
       "      <td>0</td>\n",
       "      <td>1</td>\n",
       "      <td>1</td>\n",
       "    </tr>\n",
       "    <tr>\n",
       "      <th>2</th>\n",
       "      <td>0</td>\n",
       "      <td>0</td>\n",
       "      <td>1</td>\n",
       "      <td>0</td>\n",
       "      <td>0</td>\n",
       "      <td>1</td>\n",
       "      <td>1</td>\n",
       "      <td>1</td>\n",
       "      <td>1</td>\n",
       "      <td>0</td>\n",
       "      <td>0</td>\n",
       "      <td>1</td>\n",
       "      <td>0</td>\n",
       "      <td>1</td>\n",
       "      <td>0</td>\n",
       "      <td>0</td>\n",
       "      <td>4</td>\n",
       "    </tr>\n",
       "    <tr>\n",
       "      <th>3</th>\n",
       "      <td>1</td>\n",
       "      <td>0</td>\n",
       "      <td>0</td>\n",
       "      <td>1</td>\n",
       "      <td>0</td>\n",
       "      <td>0</td>\n",
       "      <td>1</td>\n",
       "      <td>1</td>\n",
       "      <td>1</td>\n",
       "      <td>1</td>\n",
       "      <td>0</td>\n",
       "      <td>0</td>\n",
       "      <td>4</td>\n",
       "      <td>0</td>\n",
       "      <td>0</td>\n",
       "      <td>1</td>\n",
       "      <td>1</td>\n",
       "    </tr>\n",
       "    <tr>\n",
       "      <th>4</th>\n",
       "      <td>1</td>\n",
       "      <td>0</td>\n",
       "      <td>0</td>\n",
       "      <td>1</td>\n",
       "      <td>0</td>\n",
       "      <td>0</td>\n",
       "      <td>1</td>\n",
       "      <td>1</td>\n",
       "      <td>1</td>\n",
       "      <td>1</td>\n",
       "      <td>0</td>\n",
       "      <td>0</td>\n",
       "      <td>4</td>\n",
       "      <td>1</td>\n",
       "      <td>0</td>\n",
       "      <td>1</td>\n",
       "      <td>1</td>\n",
       "    </tr>\n",
       "  </tbody>\n",
       "</table>\n",
       "</div>"
      ],
      "text/plain": [
       "   hair  feathers  eggs  milk  airborne  aquatic  predator  toothed  backbone  \\\n",
       "0     1         0     0     1         0        0         1        1         1   \n",
       "1     1         0     0     1         0        0         0        1         1   \n",
       "2     0         0     1     0         0        1         1        1         1   \n",
       "3     1         0     0     1         0        0         1        1         1   \n",
       "4     1         0     0     1         0        0         1        1         1   \n",
       "\n",
       "   breathes  venomous  fins  legs  tail  domestic  catsize  type  \n",
       "0         1         0     0     4     0         0        1     1  \n",
       "1         1         0     0     4     1         0        1     1  \n",
       "2         0         0     1     0     1         0        0     4  \n",
       "3         1         0     0     4     0         0        1     1  \n",
       "4         1         0     0     4     1         0        1     1  "
      ]
     },
     "execution_count": 5,
     "metadata": {},
     "output_type": "execute_result"
    }
   ],
   "source": [
    "data.drop(['animal name'],axis=1, inplace=True)\n",
    "data.head()"
   ]
  },
  {
   "cell_type": "code",
   "execution_count": 6,
   "id": "96e9cca6",
   "metadata": {},
   "outputs": [],
   "source": [
    "## Splitting the dataset\n",
    "\n",
    "X = data.iloc[:, :-1]\n",
    "\n",
    "y = data.iloc[:, -1]"
   ]
  },
  {
   "cell_type": "code",
   "execution_count": 7,
   "id": "18cfadc5",
   "metadata": {},
   "outputs": [
    {
     "data": {
      "text/plain": [
       "0    1\n",
       "1    1\n",
       "2    4\n",
       "3    1\n",
       "4    1\n",
       "Name: type, dtype: int64"
      ]
     },
     "execution_count": 7,
     "metadata": {},
     "output_type": "execute_result"
    }
   ],
   "source": [
    "y.head()"
   ]
  },
  {
   "cell_type": "code",
   "execution_count": 8,
   "id": "496408a4",
   "metadata": {},
   "outputs": [],
   "source": [
    "from sklearn.model_selection import train_test_split\n",
    "from sklearn.metrics import classification_report, f1_score\n",
    "\n",
    "X_train, X_test, y_train, y_test = train_test_split(X, y, stratify=y, test_size=.25)"
   ]
  },
  {
   "cell_type": "code",
   "execution_count": 9,
   "id": "93eb2822",
   "metadata": {},
   "outputs": [],
   "source": [
    "from sklearn.neighbors import KNeighborsClassifier\n",
    "\n",
    "k_metrics = {}"
   ]
  },
  {
   "cell_type": "code",
   "execution_count": 25,
   "id": "bd79d4a4",
   "metadata": {},
   "outputs": [],
   "source": [
    "def score_list(K):\n",
    "    for i in K:\n",
    "        model = KNeighborsClassifier(n_neighbors=i)\n",
    "        model.fit(X_train, y_train)\n",
    "        test_predict = model.predict(X_test)    \n",
    "        #f1 = f1_score(y_test, test_predict, average='macro')\n",
    "        #error = 1-f1\n",
    "        testing_score = model.score(X_test, y_test)\n",
    "        training_score = model.score(X_train, y_train)\n",
    "        k_metrics.update({i:(np.round(testing_score,2), np.round(training_score,2))})        \n",
    "    return k_metrics\n"
   ]
  },
  {
   "cell_type": "code",
   "execution_count": 26,
   "id": "9a0a2d14",
   "metadata": {},
   "outputs": [
    {
     "data": {
      "text/plain": [
       "{1: (0.96, 1.0),\n",
       " 2: (0.96, 0.97),\n",
       " 3: (0.88, 0.97),\n",
       " 4: (0.85, 0.91),\n",
       " 5: (0.81, 0.87),\n",
       " 6: (0.81, 0.85),\n",
       " 7: (0.81, 0.89),\n",
       " 8: (0.77, 0.84),\n",
       " 9: (0.73, 0.8),\n",
       " 10: (0.73, 0.8),\n",
       " 11: (0.73, 0.8),\n",
       " 12: (0.73, 0.8),\n",
       " 13: (0.73, 0.8),\n",
       " 14: (0.73, 0.8),\n",
       " 15: (0.73, 0.8),\n",
       " 16: (0.73, 0.8),\n",
       " 17: (0.73, 0.8),\n",
       " 18: (0.73, 0.8),\n",
       " 19: (0.73, 0.8),\n",
       " 20: (0.73, 0.77),\n",
       " 21: (0.69, 0.76),\n",
       " 22: (0.65, 0.72),\n",
       " 23: (0.65, 0.72),\n",
       " 24: (0.65, 0.72),\n",
       " 25: (0.65, 0.72),\n",
       " 26: (0.62, 0.65),\n",
       " 27: (0.54, 0.59),\n",
       " 28: (0.54, 0.59),\n",
       " 29: (0.54, 0.59),\n",
       " 30: (0.54, 0.59)}"
      ]
     },
     "execution_count": 26,
     "metadata": {},
     "output_type": "execute_result"
    }
   ],
   "source": [
    "import numpy as np\n",
    "K_range = np.array(range(1,31))\n",
    "\n",
    "K_metrics = score_list(K_range)\n",
    "\n",
    "k_metrics"
   ]
  },
  {
   "cell_type": "code",
   "execution_count": 28,
   "id": "d90a66b3",
   "metadata": {},
   "outputs": [
    {
     "data": {
      "text/html": [
       "<div>\n",
       "<style scoped>\n",
       "    .dataframe tbody tr th:only-of-type {\n",
       "        vertical-align: middle;\n",
       "    }\n",
       "\n",
       "    .dataframe tbody tr th {\n",
       "        vertical-align: top;\n",
       "    }\n",
       "\n",
       "    .dataframe thead th {\n",
       "        text-align: right;\n",
       "    }\n",
       "</style>\n",
       "<table border=\"1\" class=\"dataframe\">\n",
       "  <thead>\n",
       "    <tr style=\"text-align: right;\">\n",
       "      <th></th>\n",
       "      <th>testing_score</th>\n",
       "      <th>training_score</th>\n",
       "    </tr>\n",
       "  </thead>\n",
       "  <tbody>\n",
       "    <tr>\n",
       "      <th>1</th>\n",
       "      <td>0.96</td>\n",
       "      <td>1.00</td>\n",
       "    </tr>\n",
       "    <tr>\n",
       "      <th>2</th>\n",
       "      <td>0.96</td>\n",
       "      <td>0.97</td>\n",
       "    </tr>\n",
       "    <tr>\n",
       "      <th>3</th>\n",
       "      <td>0.88</td>\n",
       "      <td>0.97</td>\n",
       "    </tr>\n",
       "    <tr>\n",
       "      <th>4</th>\n",
       "      <td>0.85</td>\n",
       "      <td>0.91</td>\n",
       "    </tr>\n",
       "    <tr>\n",
       "      <th>5</th>\n",
       "      <td>0.81</td>\n",
       "      <td>0.87</td>\n",
       "    </tr>\n",
       "  </tbody>\n",
       "</table>\n",
       "</div>"
      ],
      "text/plain": [
       "   testing_score  training_score\n",
       "1           0.96            1.00\n",
       "2           0.96            0.97\n",
       "3           0.88            0.97\n",
       "4           0.85            0.91\n",
       "5           0.81            0.87"
      ]
     },
     "execution_count": 28,
     "metadata": {},
     "output_type": "execute_result"
    }
   ],
   "source": [
    "df_metrics = pd.DataFrame(K_metrics, index = ['testing_score', 'training_score']).T\n",
    "df_metrics.head()"
   ]
  },
  {
   "cell_type": "code",
   "execution_count": 29,
   "id": "453b8530",
   "metadata": {},
   "outputs": [
    {
     "data": {
      "text/html": [
       "<div>\n",
       "<style scoped>\n",
       "    .dataframe tbody tr th:only-of-type {\n",
       "        vertical-align: middle;\n",
       "    }\n",
       "\n",
       "    .dataframe tbody tr th {\n",
       "        vertical-align: top;\n",
       "    }\n",
       "\n",
       "    .dataframe thead th {\n",
       "        text-align: right;\n",
       "    }\n",
       "</style>\n",
       "<table border=\"1\" class=\"dataframe\">\n",
       "  <thead>\n",
       "    <tr style=\"text-align: right;\">\n",
       "      <th></th>\n",
       "      <th>testing_score</th>\n",
       "      <th>training_score</th>\n",
       "    </tr>\n",
       "  </thead>\n",
       "  <tbody>\n",
       "    <tr>\n",
       "      <th>1</th>\n",
       "      <td>0.96</td>\n",
       "      <td>1.00</td>\n",
       "    </tr>\n",
       "    <tr>\n",
       "      <th>2</th>\n",
       "      <td>0.96</td>\n",
       "      <td>0.97</td>\n",
       "    </tr>\n",
       "    <tr>\n",
       "      <th>3</th>\n",
       "      <td>0.88</td>\n",
       "      <td>0.97</td>\n",
       "    </tr>\n",
       "    <tr>\n",
       "      <th>4</th>\n",
       "      <td>0.85</td>\n",
       "      <td>0.91</td>\n",
       "    </tr>\n",
       "    <tr>\n",
       "      <th>5</th>\n",
       "      <td>0.81</td>\n",
       "      <td>0.87</td>\n",
       "    </tr>\n",
       "  </tbody>\n",
       "</table>\n",
       "</div>"
      ],
      "text/plain": [
       "   testing_score  training_score\n",
       "1           0.96            1.00\n",
       "2           0.96            0.97\n",
       "3           0.88            0.97\n",
       "4           0.85            0.91\n",
       "5           0.81            0.87"
      ]
     },
     "execution_count": 29,
     "metadata": {},
     "output_type": "execute_result"
    }
   ],
   "source": [
    "df_metrics.sort_values(['testing_score'], ascending=False).head()"
   ]
  },
  {
   "cell_type": "code",
   "execution_count": 31,
   "id": "ed4f515a",
   "metadata": {},
   "outputs": [
    {
     "data": {
      "image/png": "[encoded data removed]",
      "text/plain": [
       "<Figure size 1080x360 with 2 Axes>"
      ]
     },
     "metadata": {
      "needs_background": "light"
     },
     "output_type": "display_data"
    }
   ],
   "source": [
    "fig, ax = plt.subplots(1,2, figsize=(15,5))\n",
    "\n",
    "ax[0].plot(df_metrics.index, df_metrics['training_score'])\n",
    "ax[0].set_xlabel('Value of k')\n",
    "ax[0].set_ylabel('Training Accuracy Score')\n",
    "\n",
    "ax[1].plot(df_metrics.index, df_metrics['testing_score'])\n",
    "ax[1].set_xlabel('Value of k')\n",
    "ax[1].set_ylabel('Testing Accuracy Score')\n",
    "\n",
    "plt.show()"
   ]
  },
  {
   "cell_type": "markdown",
   "id": "d673914e",
   "metadata": {},
   "source": [
    "### Why both testing and training results showing the similar pattern ? "
   ]
  },
  {
   "cell_type": "markdown",
   "id": "e9a0f0ae",
   "metadata": {},
   "source": [
    "### Trying to do the same with GridSearchCV"
   ]
  },
  {
   "cell_type": "code",
   "execution_count": 14,
   "id": "cfccf48b",
   "metadata": {},
   "outputs": [
    {
     "data": {
      "text/plain": [
       "{'n_neighbors': 1}"
      ]
     },
     "execution_count": 14,
     "metadata": {},
     "output_type": "execute_result"
    }
   ],
   "source": [
    "from sklearn.model_selection import GridSearchCV, cross_val_score\n",
    "\n",
    "model = KNeighborsClassifier()\n",
    "grid = dict(n_neighbors= np.array(range(1,31)))\n",
    "\n",
    "grid_model = GridSearchCV(model, grid, scoring= 'f1_macro', cv=4)\n",
    "grid_model.fit(X, y)\n",
    "\n",
    "grid_model.best_params_"
   ]
  },
  {
   "cell_type": "code",
   "execution_count": 15,
   "id": "fde18b10",
   "metadata": {},
   "outputs": [
    {
     "data": {
      "text/plain": [
       "{'mean_fit_time': array([0.00087714, 0.00376588, 0.0017488 , 0.00024652, 0.00087881,\n",
       "        0.00391603, 0.00389498, 0.        , 0.00390524, 0.00391537,\n",
       "        0.00038749, 0.00549394, 0.00172961, 0.0009926 , 0.00102025,\n",
       "        0.00100321, 0.00148082, 0.        , 0.        , 0.        ,\n",
       "        0.        , 0.        , 0.00038832, 0.00363415, 0.00390631,\n",
       "        0.00391328, 0.        , 0.        , 0.        , 0.        ]),\n",
       " 'std_fit_time': array([8.84514581e-04, 5.38705264e-03, 4.42114036e-04, 4.26993498e-04,\n",
       "        1.52214510e-03, 6.78275454e-03, 6.74631143e-03, 0.00000000e+00,\n",
       "        6.76406842e-03, 6.78161892e-03, 6.71152014e-04, 6.41302823e-03,\n",
       "        8.24818395e-04, 6.17447735e-06, 1.02105803e-03, 2.02082602e-05,\n",
       "        4.89339337e-04, 0.00000000e+00, 0.00000000e+00, 0.00000000e+00,\n",
       "        0.00000000e+00, 0.00000000e+00, 6.72597349e-04, 6.29454075e-03,\n",
       "        6.76592671e-03, 6.77800558e-03, 0.00000000e+00, 0.00000000e+00,\n",
       "        0.00000000e+00, 0.00000000e+00]),\n",
       " 'mean_score_time': array([0.00727499, 0.00148928, 0.00249124, 0.00386405, 0.00096482,\n",
       "        0.        , 0.        , 0.00390571, 0.        , 0.00363958,\n",
       "        0.        , 0.00404286, 0.00226158, 0.00273532, 0.00376177,\n",
       "        0.00238442, 0.0018906 , 0.00388551, 0.        , 0.00391519,\n",
       "        0.00389677, 0.00391293, 0.00391155, 0.        , 0.        ,\n",
       "        0.        , 0.00390542, 0.00390792, 0.00579733, 0.00212902]),\n",
       " 'std_score_time': array([0.00734038, 0.00086001, 0.00048629, 0.00539682, 0.00105623,\n",
       "        0.        , 0.        , 0.00676489, 0.        , 0.00630394,\n",
       "        0.        , 0.00573265, 0.00044866, 0.00128047, 0.00542301,\n",
       "        0.00042287, 0.00087154, 0.0067299 , 0.        , 0.00678131,\n",
       "        0.00674941, 0.00677739, 0.00677501, 0.        , 0.        ,\n",
       "        0.        , 0.00676438, 0.00676871, 0.00646314, 0.00368757]),\n",
       " 'param_n_neighbors': masked_array(data=[1, 2, 3, 4, 5, 6, 7, 8, 9, 10, 11, 12, 13, 14, 15, 16,\n",
       "                    17, 18, 19, 20, 21, 22, 23, 24, 25, 26, 27, 28, 29, 30],\n",
       "              mask=[False, False, False, False, False, False, False, False,\n",
       "                    False, False, False, False, False, False, False, False,\n",
       "                    False, False, False, False, False, False, False, False,\n",
       "                    False, False, False, False, False, False],\n",
       "        fill_value='?',\n",
       "             dtype=object),\n",
       " 'params': [{'n_neighbors': 1},\n",
       "  {'n_neighbors': 2},\n",
       "  {'n_neighbors': 3},\n",
       "  {'n_neighbors': 4},\n",
       "  {'n_neighbors': 5},\n",
       "  {'n_neighbors': 6},\n",
       "  {'n_neighbors': 7},\n",
       "  {'n_neighbors': 8},\n",
       "  {'n_neighbors': 9},\n",
       "  {'n_neighbors': 10},\n",
       "  {'n_neighbors': 11},\n",
       "  {'n_neighbors': 12},\n",
       "  {'n_neighbors': 13},\n",
       "  {'n_neighbors': 14},\n",
       "  {'n_neighbors': 15},\n",
       "  {'n_neighbors': 16},\n",
       "  {'n_neighbors': 17},\n",
       "  {'n_neighbors': 18},\n",
       "  {'n_neighbors': 19},\n",
       "  {'n_neighbors': 20},\n",
       "  {'n_neighbors': 21},\n",
       "  {'n_neighbors': 22},\n",
       "  {'n_neighbors': 23},\n",
       "  {'n_neighbors': 24},\n",
       "  {'n_neighbors': 25},\n",
       "  {'n_neighbors': 26},\n",
       "  {'n_neighbors': 27},\n",
       "  {'n_neighbors': 28},\n",
       "  {'n_neighbors': 29},\n",
       "  {'n_neighbors': 30}],\n",
       " 'split0_test_score': array([0.93197279, 0.93197279, 0.82142857, 0.72619048, 0.80272109,\n",
       "        0.70748299, 0.60272109, 0.5012987 , 0.5012987 , 0.5012987 ,\n",
       "        0.5012987 , 0.5012987 , 0.49565217, 0.49565217, 0.49565217,\n",
       "        0.49565217, 0.49565217, 0.49565217, 0.49565217, 0.49565217,\n",
       "        0.49565217, 0.34285714, 0.34285714, 0.34285714, 0.34285714,\n",
       "        0.33939394, 0.34047619, 0.20952381, 0.20952381, 0.20952381]),\n",
       " 'split1_test_score': array([1.        , 0.80952381, 0.65079365, 0.65079365, 0.65079365,\n",
       "        0.65079365, 0.65079365, 0.65079365, 0.50113379, 0.50113379,\n",
       "        0.50113379, 0.50113379, 0.50113379, 0.50113379, 0.50113379,\n",
       "        0.50113379, 0.50113379, 0.50113379, 0.50113379, 0.45685426,\n",
       "        0.38412698, 0.38412698, 0.38412698, 0.38412698, 0.38412698,\n",
       "        0.38412698, 0.38412698, 0.38701299, 0.20952381, 0.20952381]),\n",
       " 'split2_test_score': array([0.94285714, 0.60748299, 0.79319728, 0.73129252, 0.70340136,\n",
       "        0.70340136, 0.61666667, 0.46768707, 0.46768707, 0.46768707,\n",
       "        0.46768707, 0.46768707, 0.46768707, 0.46768707, 0.46768707,\n",
       "        0.46768707, 0.46768707, 0.46768707, 0.48116883, 0.35285714,\n",
       "        0.35285714, 0.35285714, 0.35285714, 0.35285714, 0.35285714,\n",
       "        0.35285714, 0.35285714, 0.35517625, 0.31714286, 0.26989011]),\n",
       " 'split3_test_score': array([0.80952381, 0.80952381, 0.80952381, 0.73809524, 0.75102041,\n",
       "        0.71016828, 0.72380952, 0.50340136, 0.50340136, 0.47482993,\n",
       "        0.47482993, 0.47482993, 0.47482993, 0.47482993, 0.47482993,\n",
       "        0.47482993, 0.47482993, 0.47482993, 0.4978355 , 0.4978355 ,\n",
       "        0.3452381 , 0.3452381 , 0.3452381 , 0.3452381 , 0.3452381 ,\n",
       "        0.34863946, 0.20238095, 0.20238095, 0.20238095, 0.19642857]),\n",
       " 'mean_test_score': array([0.92108844, 0.78962585, 0.76873583, 0.71159297, 0.72698413,\n",
       "        0.69296157, 0.64849773, 0.5307952 , 0.49338023, 0.48623737,\n",
       "        0.48623737, 0.48623737, 0.48482574, 0.48482574, 0.48482574,\n",
       "        0.48482574, 0.48482574, 0.48482574, 0.49394757, 0.45079977,\n",
       "        0.3944686 , 0.35626984, 0.35626984, 0.35626984, 0.35626984,\n",
       "        0.35625438, 0.31996032, 0.2885235 , 0.23464286, 0.22134158]),\n",
       " 'std_test_score': array([0.06940109, 0.11643725, 0.06882751, 0.03535565, 0.05629158,\n",
       "        0.02446459, 0.04686645, 0.0707155 , 0.01486086, 0.01519038,\n",
       "        0.01519038, 0.01519038, 0.01393569, 0.01393569, 0.01393569,\n",
       "        0.01393569, 0.01393569, 0.01393569, 0.00763151, 0.05885047,\n",
       "        0.06020843, 0.01650202, 0.01650202, 0.01650202, 0.01650202,\n",
       "        0.01681283, 0.06972333, 0.08337304, 0.04772058, 0.02853479]),\n",
       " 'rank_test_score': array([ 1,  2,  3,  5,  4,  6,  7,  8, 10, 11, 11, 11, 14, 14, 14, 14, 14,\n",
       "        14,  9, 20, 21, 22, 22, 22, 22, 26, 27, 28, 29, 30])}"
      ]
     },
     "execution_count": 15,
     "metadata": {},
     "output_type": "execute_result"
    }
   ],
   "source": [
    "grid_model.cv_results_"
   ]
  },
  {
   "cell_type": "code",
   "execution_count": 33,
   "id": "1ef469a5",
   "metadata": {},
   "outputs": [
    {
     "data": {
      "text/plain": [
       "{'n_neighbors': 1}"
      ]
     },
     "execution_count": 33,
     "metadata": {},
     "output_type": "execute_result"
    }
   ],
   "source": [
    "grid_model.best_params_"
   ]
  },
  {
   "cell_type": "code",
   "execution_count": 34,
   "id": "26844e55",
   "metadata": {},
   "outputs": [
    {
     "data": {
      "text/plain": [
       "0.9210884353741495"
      ]
     },
     "execution_count": 34,
     "metadata": {},
     "output_type": "execute_result"
    }
   ],
   "source": [
    "grid_model.best_score_"
   ]
  },
  {
   "cell_type": "code",
   "execution_count": 32,
   "id": "f840fa85",
   "metadata": {},
   "outputs": [
    {
     "data": {
      "text/plain": [
       "array([0.92108844, 0.78962585, 0.76873583, 0.71159297, 0.72698413,\n",
       "       0.69296157, 0.64849773, 0.5307952 , 0.49338023, 0.48623737,\n",
       "       0.48623737, 0.48623737, 0.48482574, 0.48482574, 0.48482574,\n",
       "       0.48482574, 0.48482574, 0.48482574, 0.49394757, 0.45079977,\n",
       "       0.3944686 , 0.35626984, 0.35626984, 0.35626984, 0.35626984,\n",
       "       0.35625438, 0.31996032, 0.2885235 , 0.23464286, 0.22134158])"
      ]
     },
     "execution_count": 32,
     "metadata": {},
     "output_type": "execute_result"
    }
   ],
   "source": [
    "grid_model.cv_results_['mean_test_score']"
   ]
  },
  {
   "cell_type": "code",
   "execution_count": 17,
   "id": "ddc998fa",
   "metadata": {},
   "outputs": [
    {
     "data": {
      "image/png": "[encoded data removed]",
      "text/plain": [
       "<Figure size 432x288 with 1 Axes>"
      ]
     },
     "metadata": {
      "needs_background": "light"
     },
     "output_type": "display_data"
    }
   ],
   "source": [
    "plt.plot(grid_model.cv_results_['rank_test_score'], grid_model.cv_results_['mean_test_score'])\n",
    "plt.show()"
   ]
  },
  {
   "cell_type": "markdown",
   "id": "d9ae6743",
   "metadata": {},
   "source": [
    "## In both ways, only n_neighbours = 1 is giving the best score. "
   ]
  }
 ],
 "metadata": {
  "kernelspec": {
   "display_name": "Python 3 (ipykernel)",
   "language": "python",
   "name": "python3"
  },
  "language_info": {
   "codemirror_mode": {
    "name": "ipython",
    "version": 3
   },
   "file_extension": ".py",
   "mimetype": "text/x-python",
   "name": "python",
   "nbconvert_exporter": "python",
   "pygments_lexer": "ipython3",
   "version": "3.9.12"
  }
 },
 "nbformat": 4,
 "nbformat_minor": 5
}

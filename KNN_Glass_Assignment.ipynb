{
 "cells": [
  {
   "cell_type": "markdown",
   "id": "0702cc07",
   "metadata": {},
   "source": [
    "## Prepare a model for glass classification\n",
    "\n",
    "Data Description:\n",
    "\n",
    "RI : refractive index\n",
    "\n",
    "Na: Sodium (unit measurement: weight percent in corresponding oxide, as are attributes 4-10)\n",
    "\n",
    "Mg: Magnesium\n",
    "\n",
    "AI: Aluminum\n",
    "\n",
    "Si: Silicon\n",
    "\n",
    "K:Potassium\n",
    "\n",
    "Ca: Calcium\n",
    "\n",
    "Ba: Barium\n",
    "\n",
    "Fe: Iron\n",
    "\n",
    "Type: Type of glass: (class attribute)\n",
    "1 -- building_windows_float_processed\n",
    " 2 --building_windows_non_float_processed\n",
    " 3 --vehicle_windows_float_processed\n",
    " 4 --vehicle_windows_non_float_processed (none in this database)\n",
    " 5 --containers\n",
    " 6 --tableware\n",
    " 7 --headlamps"
   ]
  },
  {
   "cell_type": "code",
   "execution_count": 1,
   "id": "d173a11f",
   "metadata": {},
   "outputs": [],
   "source": [
    "import pandas as pd"
   ]
  },
  {
   "cell_type": "code",
   "execution_count": 2,
   "id": "0d5abf19",
   "metadata": {},
   "outputs": [
    {
     "data": {
      "text/html": [
       "<div>\n",
       "<style scoped>\n",
       "    .dataframe tbody tr th:only-of-type {\n",
       "        vertical-align: middle;\n",
       "    }\n",
       "\n",
       "    .dataframe tbody tr th {\n",
       "        vertical-align: top;\n",
       "    }\n",
       "\n",
       "    .dataframe thead th {\n",
       "        text-align: right;\n",
       "    }\n",
       "</style>\n",
       "<table border=\"1\" class=\"dataframe\">\n",
       "  <thead>\n",
       "    <tr style=\"text-align: right;\">\n",
       "      <th></th>\n",
       "      <th>RI</th>\n",
       "      <th>Na</th>\n",
       "      <th>Mg</th>\n",
       "      <th>Al</th>\n",
       "      <th>Si</th>\n",
       "      <th>K</th>\n",
       "      <th>Ca</th>\n",
       "      <th>Ba</th>\n",
       "      <th>Fe</th>\n",
       "      <th>Type</th>\n",
       "    </tr>\n",
       "  </thead>\n",
       "  <tbody>\n",
       "    <tr>\n",
       "      <th>0</th>\n",
       "      <td>1.52101</td>\n",
       "      <td>13.64</td>\n",
       "      <td>4.49</td>\n",
       "      <td>1.10</td>\n",
       "      <td>71.78</td>\n",
       "      <td>0.06</td>\n",
       "      <td>8.75</td>\n",
       "      <td>0.0</td>\n",
       "      <td>0.0</td>\n",
       "      <td>1</td>\n",
       "    </tr>\n",
       "    <tr>\n",
       "      <th>1</th>\n",
       "      <td>1.51761</td>\n",
       "      <td>13.89</td>\n",
       "      <td>3.60</td>\n",
       "      <td>1.36</td>\n",
       "      <td>72.73</td>\n",
       "      <td>0.48</td>\n",
       "      <td>7.83</td>\n",
       "      <td>0.0</td>\n",
       "      <td>0.0</td>\n",
       "      <td>1</td>\n",
       "    </tr>\n",
       "    <tr>\n",
       "      <th>2</th>\n",
       "      <td>1.51618</td>\n",
       "      <td>13.53</td>\n",
       "      <td>3.55</td>\n",
       "      <td>1.54</td>\n",
       "      <td>72.99</td>\n",
       "      <td>0.39</td>\n",
       "      <td>7.78</td>\n",
       "      <td>0.0</td>\n",
       "      <td>0.0</td>\n",
       "      <td>1</td>\n",
       "    </tr>\n",
       "    <tr>\n",
       "      <th>3</th>\n",
       "      <td>1.51766</td>\n",
       "      <td>13.21</td>\n",
       "      <td>3.69</td>\n",
       "      <td>1.29</td>\n",
       "      <td>72.61</td>\n",
       "      <td>0.57</td>\n",
       "      <td>8.22</td>\n",
       "      <td>0.0</td>\n",
       "      <td>0.0</td>\n",
       "      <td>1</td>\n",
       "    </tr>\n",
       "    <tr>\n",
       "      <th>4</th>\n",
       "      <td>1.51742</td>\n",
       "      <td>13.27</td>\n",
       "      <td>3.62</td>\n",
       "      <td>1.24</td>\n",
       "      <td>73.08</td>\n",
       "      <td>0.55</td>\n",
       "      <td>8.07</td>\n",
       "      <td>0.0</td>\n",
       "      <td>0.0</td>\n",
       "      <td>1</td>\n",
       "    </tr>\n",
       "  </tbody>\n",
       "</table>\n",
       "</div>"
      ],
      "text/plain": [
       "        RI     Na    Mg    Al     Si     K    Ca   Ba   Fe  Type\n",
       "0  1.52101  13.64  4.49  1.10  71.78  0.06  8.75  0.0  0.0     1\n",
       "1  1.51761  13.89  3.60  1.36  72.73  0.48  7.83  0.0  0.0     1\n",
       "2  1.51618  13.53  3.55  1.54  72.99  0.39  7.78  0.0  0.0     1\n",
       "3  1.51766  13.21  3.69  1.29  72.61  0.57  8.22  0.0  0.0     1\n",
       "4  1.51742  13.27  3.62  1.24  73.08  0.55  8.07  0.0  0.0     1"
      ]
     },
     "execution_count": 2,
     "metadata": {},
     "output_type": "execute_result"
    }
   ],
   "source": [
    "data = pd.read_csv('glass.csv')\n",
    "data.head()"
   ]
  },
  {
   "cell_type": "code",
   "execution_count": 3,
   "id": "d82018a2",
   "metadata": {},
   "outputs": [
    {
     "name": "stdout",
     "output_type": "stream",
     "text": [
      "<class 'pandas.core.frame.DataFrame'>\n",
      "RangeIndex: 214 entries, 0 to 213\n",
      "Data columns (total 10 columns):\n",
      " #   Column  Non-Null Count  Dtype  \n",
      "---  ------  --------------  -----  \n",
      " 0   RI      214 non-null    float64\n",
      " 1   Na      214 non-null    float64\n",
      " 2   Mg      214 non-null    float64\n",
      " 3   Al      214 non-null    float64\n",
      " 4   Si      214 non-null    float64\n",
      " 5   K       214 non-null    float64\n",
      " 6   Ca      214 non-null    float64\n",
      " 7   Ba      214 non-null    float64\n",
      " 8   Fe      214 non-null    float64\n",
      " 9   Type    214 non-null    int64  \n",
      "dtypes: float64(9), int64(1)\n",
      "memory usage: 16.8 KB\n"
     ]
    }
   ],
   "source": [
    "data.info()"
   ]
  },
  {
   "cell_type": "code",
   "execution_count": 4,
   "id": "eda60663",
   "metadata": {},
   "outputs": [
    {
     "data": {
      "text/plain": [
       "2    76\n",
       "1    70\n",
       "7    29\n",
       "3    17\n",
       "5    13\n",
       "6     9\n",
       "Name: Type, dtype: int64"
      ]
     },
     "execution_count": 4,
     "metadata": {},
     "output_type": "execute_result"
    }
   ],
   "source": [
    "data['Type'].value_counts()"
   ]
  },
  {
   "cell_type": "code",
   "execution_count": 5,
   "id": "0b8fc0db",
   "metadata": {},
   "outputs": [
    {
     "data": {
      "text/plain": [
       "99     185\n",
       "100     29\n",
       "dtype: int64"
      ]
     },
     "execution_count": 5,
     "metadata": {},
     "output_type": "execute_result"
    }
   ],
   "source": [
    "# Looking that sum of different elements sum upto 100. \n",
    "# Understanding that one type of glass corresponds to the different compositions of elements\n",
    "# Refractive Index = the ratio of the speed of light in a vacuum to the ratio of the speed of light in a specific medium (glass)\n",
    "data.iloc[:,1:-1].sum(axis=1).astype('int').value_counts()"
   ]
  },
  {
   "cell_type": "code",
   "execution_count": 6,
   "id": "b6a39bc6",
   "metadata": {},
   "outputs": [
    {
     "data": {
      "text/plain": [
       "0    1\n",
       "1    1\n",
       "2    1\n",
       "3    1\n",
       "4    1\n",
       "Name: Type, dtype: int64"
      ]
     },
     "execution_count": 6,
     "metadata": {},
     "output_type": "execute_result"
    }
   ],
   "source": [
    "## Separating X and y variables\n",
    "X = data.iloc[:, :-1]\n",
    "\n",
    "y = data.iloc[: , -1]\n",
    "y.head()"
   ]
  },
  {
   "cell_type": "code",
   "execution_count": 8,
   "id": "3a89489f",
   "metadata": {},
   "outputs": [
    {
     "data": {
      "text/html": [
       "<div>\n",
       "<style scoped>\n",
       "    .dataframe tbody tr th:only-of-type {\n",
       "        vertical-align: middle;\n",
       "    }\n",
       "\n",
       "    .dataframe tbody tr th {\n",
       "        vertical-align: top;\n",
       "    }\n",
       "\n",
       "    .dataframe thead th {\n",
       "        text-align: right;\n",
       "    }\n",
       "</style>\n",
       "<table border=\"1\" class=\"dataframe\">\n",
       "  <thead>\n",
       "    <tr style=\"text-align: right;\">\n",
       "      <th></th>\n",
       "      <th>RI</th>\n",
       "      <th>Na</th>\n",
       "      <th>Mg</th>\n",
       "      <th>Al</th>\n",
       "      <th>Si</th>\n",
       "      <th>K</th>\n",
       "      <th>Ca</th>\n",
       "      <th>Ba</th>\n",
       "      <th>Fe</th>\n",
       "    </tr>\n",
       "  </thead>\n",
       "  <tbody>\n",
       "    <tr>\n",
       "      <th>0</th>\n",
       "      <td>1.52101</td>\n",
       "      <td>13.64</td>\n",
       "      <td>4.49</td>\n",
       "      <td>1.10</td>\n",
       "      <td>71.78</td>\n",
       "      <td>0.06</td>\n",
       "      <td>8.75</td>\n",
       "      <td>0.0</td>\n",
       "      <td>0.0</td>\n",
       "    </tr>\n",
       "    <tr>\n",
       "      <th>1</th>\n",
       "      <td>1.51761</td>\n",
       "      <td>13.89</td>\n",
       "      <td>3.60</td>\n",
       "      <td>1.36</td>\n",
       "      <td>72.73</td>\n",
       "      <td>0.48</td>\n",
       "      <td>7.83</td>\n",
       "      <td>0.0</td>\n",
       "      <td>0.0</td>\n",
       "    </tr>\n",
       "    <tr>\n",
       "      <th>2</th>\n",
       "      <td>1.51618</td>\n",
       "      <td>13.53</td>\n",
       "      <td>3.55</td>\n",
       "      <td>1.54</td>\n",
       "      <td>72.99</td>\n",
       "      <td>0.39</td>\n",
       "      <td>7.78</td>\n",
       "      <td>0.0</td>\n",
       "      <td>0.0</td>\n",
       "    </tr>\n",
       "    <tr>\n",
       "      <th>3</th>\n",
       "      <td>1.51766</td>\n",
       "      <td>13.21</td>\n",
       "      <td>3.69</td>\n",
       "      <td>1.29</td>\n",
       "      <td>72.61</td>\n",
       "      <td>0.57</td>\n",
       "      <td>8.22</td>\n",
       "      <td>0.0</td>\n",
       "      <td>0.0</td>\n",
       "    </tr>\n",
       "    <tr>\n",
       "      <th>4</th>\n",
       "      <td>1.51742</td>\n",
       "      <td>13.27</td>\n",
       "      <td>3.62</td>\n",
       "      <td>1.24</td>\n",
       "      <td>73.08</td>\n",
       "      <td>0.55</td>\n",
       "      <td>8.07</td>\n",
       "      <td>0.0</td>\n",
       "      <td>0.0</td>\n",
       "    </tr>\n",
       "  </tbody>\n",
       "</table>\n",
       "</div>"
      ],
      "text/plain": [
       "        RI     Na    Mg    Al     Si     K    Ca   Ba   Fe\n",
       "0  1.52101  13.64  4.49  1.10  71.78  0.06  8.75  0.0  0.0\n",
       "1  1.51761  13.89  3.60  1.36  72.73  0.48  7.83  0.0  0.0\n",
       "2  1.51618  13.53  3.55  1.54  72.99  0.39  7.78  0.0  0.0\n",
       "3  1.51766  13.21  3.69  1.29  72.61  0.57  8.22  0.0  0.0\n",
       "4  1.51742  13.27  3.62  1.24  73.08  0.55  8.07  0.0  0.0"
      ]
     },
     "execution_count": 8,
     "metadata": {},
     "output_type": "execute_result"
    }
   ],
   "source": [
    "X.head()"
   ]
  },
  {
   "cell_type": "code",
   "execution_count": 56,
   "id": "611eba28",
   "metadata": {},
   "outputs": [
    {
     "name": "stdout",
     "output_type": "stream",
     "text": [
      "0.6680911680911681\n",
      "{'n_neighbors': 1}\n",
      "<bound method BaseSearchCV.score of GridSearchCV(cv=8, estimator=KNeighborsClassifier(),\n",
      "             param_grid={'n_neighbors': array([ 1,  2,  3,  4,  5,  6,  7,  8,  9, 10, 11, 12, 13, 14, 15, 16, 17,\n",
      "       18, 19, 20, 21, 22, 23, 24, 25, 26, 27, 28, 29, 30, 31, 32, 33, 34,\n",
      "       35, 36, 37, 38, 39])})>\n"
     ]
    }
   ],
   "source": [
    "from sklearn.neighbors import KNeighborsClassifier\n",
    "from sklearn.model_selection import GridSearchCV\n",
    "from sklearn.model_selection import cross_val_score, KFold\n",
    "import numpy as np\n",
    "\n",
    "params = dict(n_neighbors = np.array(range(1, 40)))\n",
    "model = KNeighborsClassifier()\n",
    "grid = GridSearchCV(model, param_grid= params, cv =8 )\n",
    "\n",
    "grid.fit(X, y)\n",
    "\n",
    "print(grid.best_score_)\n",
    "print(grid.best_params_)\n",
    "print(grid.score)\n"
   ]
  },
  {
   "cell_type": "code",
   "execution_count": 57,
   "id": "ee5c1ca7",
   "metadata": {},
   "outputs": [
    {
     "data": {
      "text/plain": [
       "{'mean_fit_time': array([0.00319341, 0.00138998, 0.        , 0.00195286, 0.        ,\n",
       "        0.00210339, 0.        , 0.        , 0.00025299, 0.00195354,\n",
       "        0.        , 0.00195795, 0.00100598, 0.00195098, 0.00195256,\n",
       "        0.        , 0.        , 0.003905  , 0.        , 0.00195247,\n",
       "        0.00340065, 0.        , 0.00195321, 0.        , 0.0019528 ,\n",
       "        0.00195214, 0.        , 0.003833  , 0.00195774, 0.        ,\n",
       "        0.00195244, 0.00088036, 0.00195274, 0.        , 0.00396338,\n",
       "        0.        , 0.00195688, 0.00198722, 0.00195318]),\n",
       " 'std_fit_time': array([0.00245941, 0.00071291, 0.        , 0.00516677, 0.        ,\n",
       "        0.00519844, 0.        , 0.        , 0.00066935, 0.00516859,\n",
       "        0.        , 0.00518026, 0.00266157, 0.00516181, 0.00516598,\n",
       "        0.        , 0.        , 0.00676366, 0.        , 0.00516575,\n",
       "        0.00597955, 0.        , 0.00516772, 0.        , 0.00516662,\n",
       "        0.00516488, 0.        , 0.00664053, 0.0051797 , 0.        ,\n",
       "        0.00516567, 0.00232922, 0.00516646, 0.        , 0.00610031,\n",
       "        0.        , 0.00517742, 0.00128348, 0.00516764]),\n",
       " 'mean_score_time': array([0.0033839 , 0.00206023, 0.00389209, 0.00195253, 0.00201583,\n",
       "        0.00232565, 0.00195307, 0.00390542, 0.00370392, 0.        ,\n",
       "        0.00195259, 0.00195178, 0.00296533, 0.        , 0.00195262,\n",
       "        0.00220814, 0.00195804, 0.        , 0.00390556, 0.00056809,\n",
       "        0.        , 0.00390503, 0.        , 0.00201225, 0.00195807,\n",
       "        0.0019528 , 0.00195277, 0.00013024, 0.00195244, 0.00195315,\n",
       "        0.        , 0.00308806, 0.        , 0.00390542, 0.        ,\n",
       "        0.0019576 , 0.00194851, 0.00388876, 0.00175118]),\n",
       " 'std_score_time': array([0.00237239, 0.00088136, 0.00674137, 0.00516591, 0.00533338,\n",
       "        0.00503062, 0.00516733, 0.00676438, 0.00642798, 0.        ,\n",
       "        0.00516606, 0.00516393, 0.00547891, 0.        , 0.00516614,\n",
       "        0.00511369, 0.00518049, 0.        , 0.00676464, 0.00150303,\n",
       "        0.        , 0.00676371, 0.        , 0.00370186, 0.00518057,\n",
       "        0.00516662, 0.00516654, 0.00034457, 0.00516567, 0.00516756,\n",
       "        0.        , 0.00559883, 0.        , 0.00676438, 0.        ,\n",
       "        0.00517931, 0.00515526, 0.00462872, 0.0046332 ]),\n",
       " 'param_n_neighbors': masked_array(data=[1, 2, 3, 4, 5, 6, 7, 8, 9, 10, 11, 12, 13, 14, 15, 16,\n",
       "                    17, 18, 19, 20, 21, 22, 23, 24, 25, 26, 27, 28, 29, 30,\n",
       "                    31, 32, 33, 34, 35, 36, 37, 38, 39],\n",
       "              mask=[False, False, False, False, False, False, False, False,\n",
       "                    False, False, False, False, False, False, False, False,\n",
       "                    False, False, False, False, False, False, False, False,\n",
       "                    False, False, False, False, False, False, False, False,\n",
       "                    False, False, False, False, False, False, False],\n",
       "        fill_value='?',\n",
       "             dtype=object),\n",
       " 'params': [{'n_neighbors': 1},\n",
       "  {'n_neighbors': 2},\n",
       "  {'n_neighbors': 3},\n",
       "  {'n_neighbors': 4},\n",
       "  {'n_neighbors': 5},\n",
       "  {'n_neighbors': 6},\n",
       "  {'n_neighbors': 7},\n",
       "  {'n_neighbors': 8},\n",
       "  {'n_neighbors': 9},\n",
       "  {'n_neighbors': 10},\n",
       "  {'n_neighbors': 11},\n",
       "  {'n_neighbors': 12},\n",
       "  {'n_neighbors': 13},\n",
       "  {'n_neighbors': 14},\n",
       "  {'n_neighbors': 15},\n",
       "  {'n_neighbors': 16},\n",
       "  {'n_neighbors': 17},\n",
       "  {'n_neighbors': 18},\n",
       "  {'n_neighbors': 19},\n",
       "  {'n_neighbors': 20},\n",
       "  {'n_neighbors': 21},\n",
       "  {'n_neighbors': 22},\n",
       "  {'n_neighbors': 23},\n",
       "  {'n_neighbors': 24},\n",
       "  {'n_neighbors': 25},\n",
       "  {'n_neighbors': 26},\n",
       "  {'n_neighbors': 27},\n",
       "  {'n_neighbors': 28},\n",
       "  {'n_neighbors': 29},\n",
       "  {'n_neighbors': 30},\n",
       "  {'n_neighbors': 31},\n",
       "  {'n_neighbors': 32},\n",
       "  {'n_neighbors': 33},\n",
       "  {'n_neighbors': 34},\n",
       "  {'n_neighbors': 35},\n",
       "  {'n_neighbors': 36},\n",
       "  {'n_neighbors': 37},\n",
       "  {'n_neighbors': 38},\n",
       "  {'n_neighbors': 39}],\n",
       " 'split0_test_score': array([0.55555556, 0.59259259, 0.62962963, 0.48148148, 0.51851852,\n",
       "        0.48148148, 0.44444444, 0.44444444, 0.44444444, 0.48148148,\n",
       "        0.48148148, 0.48148148, 0.48148148, 0.44444444, 0.44444444,\n",
       "        0.44444444, 0.44444444, 0.44444444, 0.44444444, 0.44444444,\n",
       "        0.44444444, 0.44444444, 0.44444444, 0.48148148, 0.48148148,\n",
       "        0.48148148, 0.48148148, 0.48148148, 0.48148148, 0.48148148,\n",
       "        0.48148148, 0.44444444, 0.44444444, 0.48148148, 0.48148148,\n",
       "        0.44444444, 0.48148148, 0.44444444, 0.48148148]),\n",
       " 'split1_test_score': array([0.66666667, 0.62962963, 0.59259259, 0.66666667, 0.62962963,\n",
       "        0.62962963, 0.62962963, 0.59259259, 0.62962963, 0.62962963,\n",
       "        0.62962963, 0.62962963, 0.62962963, 0.62962963, 0.62962963,\n",
       "        0.62962963, 0.66666667, 0.62962963, 0.66666667, 0.66666667,\n",
       "        0.66666667, 0.66666667, 0.66666667, 0.66666667, 0.66666667,\n",
       "        0.66666667, 0.66666667, 0.7037037 , 0.74074074, 0.77777778,\n",
       "        0.77777778, 0.74074074, 0.77777778, 0.77777778, 0.77777778,\n",
       "        0.74074074, 0.74074074, 0.7037037 , 0.74074074]),\n",
       " 'split2_test_score': array([0.59259259, 0.59259259, 0.55555556, 0.62962963, 0.55555556,\n",
       "        0.59259259, 0.55555556, 0.59259259, 0.55555556, 0.55555556,\n",
       "        0.55555556, 0.55555556, 0.48148148, 0.59259259, 0.55555556,\n",
       "        0.55555556, 0.51851852, 0.55555556, 0.55555556, 0.55555556,\n",
       "        0.48148148, 0.51851852, 0.51851852, 0.51851852, 0.51851852,\n",
       "        0.51851852, 0.48148148, 0.48148148, 0.48148148, 0.48148148,\n",
       "        0.48148148, 0.48148148, 0.48148148, 0.48148148, 0.48148148,\n",
       "        0.48148148, 0.48148148, 0.48148148, 0.48148148]),\n",
       " 'split3_test_score': array([0.77777778, 0.7037037 , 0.7037037 , 0.66666667, 0.66666667,\n",
       "        0.66666667, 0.66666667, 0.66666667, 0.62962963, 0.66666667,\n",
       "        0.66666667, 0.66666667, 0.62962963, 0.62962963, 0.66666667,\n",
       "        0.62962963, 0.66666667, 0.66666667, 0.66666667, 0.66666667,\n",
       "        0.66666667, 0.66666667, 0.62962963, 0.59259259, 0.59259259,\n",
       "        0.59259259, 0.59259259, 0.59259259, 0.59259259, 0.59259259,\n",
       "        0.59259259, 0.59259259, 0.59259259, 0.59259259, 0.59259259,\n",
       "        0.55555556, 0.55555556, 0.55555556, 0.51851852]),\n",
       " 'split4_test_score': array([0.7037037 , 0.7037037 , 0.7037037 , 0.77777778, 0.81481481,\n",
       "        0.77777778, 0.7037037 , 0.66666667, 0.62962963, 0.62962963,\n",
       "        0.62962963, 0.66666667, 0.66666667, 0.7037037 , 0.7037037 ,\n",
       "        0.74074074, 0.66666667, 0.77777778, 0.77777778, 0.74074074,\n",
       "        0.74074074, 0.77777778, 0.77777778, 0.77777778, 0.77777778,\n",
       "        0.77777778, 0.77777778, 0.74074074, 0.74074074, 0.74074074,\n",
       "        0.74074074, 0.74074074, 0.74074074, 0.74074074, 0.74074074,\n",
       "        0.74074074, 0.74074074, 0.74074074, 0.74074074]),\n",
       " 'split5_test_score': array([0.74074074, 0.7037037 , 0.66666667, 0.62962963, 0.62962963,\n",
       "        0.66666667, 0.74074074, 0.7037037 , 0.74074074, 0.7037037 ,\n",
       "        0.66666667, 0.7037037 , 0.7037037 , 0.7037037 , 0.7037037 ,\n",
       "        0.7037037 , 0.74074074, 0.74074074, 0.74074074, 0.81481481,\n",
       "        0.77777778, 0.74074074, 0.74074074, 0.74074074, 0.74074074,\n",
       "        0.74074074, 0.74074074, 0.74074074, 0.74074074, 0.74074074,\n",
       "        0.74074074, 0.74074074, 0.7037037 , 0.7037037 , 0.74074074,\n",
       "        0.74074074, 0.74074074, 0.74074074, 0.74074074]),\n",
       " 'split6_test_score': array([0.61538462, 0.57692308, 0.65384615, 0.57692308, 0.5       ,\n",
       "        0.57692308, 0.53846154, 0.53846154, 0.46153846, 0.53846154,\n",
       "        0.5       , 0.53846154, 0.57692308, 0.57692308, 0.57692308,\n",
       "        0.57692308, 0.57692308, 0.53846154, 0.57692308, 0.57692308,\n",
       "        0.57692308, 0.61538462, 0.57692308, 0.57692308, 0.57692308,\n",
       "        0.57692308, 0.57692308, 0.57692308, 0.57692308, 0.57692308,\n",
       "        0.57692308, 0.57692308, 0.57692308, 0.53846154, 0.53846154,\n",
       "        0.53846154, 0.53846154, 0.53846154, 0.53846154]),\n",
       " 'split7_test_score': array([0.69230769, 0.65384615, 0.65384615, 0.61538462, 0.69230769,\n",
       "        0.69230769, 0.65384615, 0.65384615, 0.65384615, 0.65384615,\n",
       "        0.65384615, 0.65384615, 0.65384615, 0.65384615, 0.65384615,\n",
       "        0.65384615, 0.65384615, 0.65384615, 0.65384615, 0.65384615,\n",
       "        0.65384615, 0.65384615, 0.65384615, 0.65384615, 0.65384615,\n",
       "        0.65384615, 0.65384615, 0.65384615, 0.61538462, 0.61538462,\n",
       "        0.61538462, 0.57692308, 0.57692308, 0.53846154, 0.5       ,\n",
       "        0.5       , 0.5       , 0.5       , 0.5       ]),\n",
       " 'mean_test_score': array([0.66809117, 0.64458689, 0.64494302, 0.63051994, 0.62589031,\n",
       "        0.6355057 , 0.61663105, 0.60737179, 0.59312678, 0.60737179,\n",
       "        0.59793447, 0.61200142, 0.60292023, 0.61680912, 0.61680912,\n",
       "        0.61680912, 0.61680912, 0.62589031, 0.63532764, 0.63995726,\n",
       "        0.62606838, 0.6355057 , 0.62606838, 0.62606838, 0.62606838,\n",
       "        0.62606838, 0.62143875, 0.62143875, 0.62126068, 0.62589031,\n",
       "        0.62589031, 0.61182336, 0.61182336, 0.60683761, 0.60665954,\n",
       "        0.59277066, 0.59740028, 0.58814103, 0.59277066]),\n",
       " 'std_test_score': array([0.07098249, 0.05096451, 0.04809011, 0.07875103, 0.09625387,\n",
       "        0.08249339, 0.09119434, 0.07921668, 0.09374674, 0.07002528,\n",
       "        0.07029575, 0.07252355, 0.07779118, 0.0780134 , 0.08229193,\n",
       "        0.08635875, 0.09024247, 0.10261093, 0.09995139, 0.10704811,\n",
       "        0.10985298, 0.10258497, 0.10342116, 0.09656187, 0.09656187,\n",
       "        0.09656187, 0.10232331, 0.09891506, 0.10291083, 0.10884379,\n",
       "        0.10884379, 0.11049302, 0.11203412, 0.11040575, 0.11874404,\n",
       "        0.11885507, 0.11359213, 0.11360664, 0.11593385]),\n",
       " 'rank_test_score': array([ 1,  3,  2,  8, 14,  5, 25, 30, 36, 29, 34, 26, 33, 21, 21, 21, 21,\n",
       "        14,  7,  4,  9,  5,  9,  9,  9,  9, 18, 19, 20, 14, 14, 27, 27, 31,\n",
       "        32, 37, 35, 39, 37])}"
      ]
     },
     "execution_count": 57,
     "metadata": {},
     "output_type": "execute_result"
    }
   ],
   "source": [
    "grid.cv_results_"
   ]
  },
  {
   "cell_type": "markdown",
   "id": "39b70be2",
   "metadata": {},
   "source": [
    "## It shows that when n_neighbours = 1, then the test score is highest. But ideally, when k=1, training score is almost 1, since one nearest point to a point is itself, and hence accuracy is 100% and it is called overfitting and it tends to decrease as we increases no. of k. Hence, further investigating and we will plot training and testing score together to come up with the optimum value of k."
   ]
  },
  {
   "cell_type": "code",
   "execution_count": 58,
   "id": "951e913c",
   "metadata": {},
   "outputs": [],
   "source": [
    "# Defining the param grid for k - 1 to 31\n",
    "grid = range(1,31)\n",
    "grid_cv = {}\n",
    "knn_acc = {}\n",
    "\n",
    "X_train, X_test, y_train, y_test = train_test_split(X, y, random_state=45)\n",
    "\n",
    "for k in grid:\n",
    "    # for each value of k, evaluating model using cross validation\n",
    "    model = KNeighborsClassifier(n_neighbors=k)\n",
    "    # using cv = 5 ( K-fold) to calculate 5 scores for each value of k.\n",
    "    scores = cross_val_score(model, X, y, cv =5, scoring='f1_weighted')\n",
    "    result = scores.mean() # it is the mean of 5 testing scores of 5 folds. \n",
    "    error = 1-result\n",
    "    # storing the scores for each value of k in a dictionary\n",
    "    grid_cv.update({k:(result,error)})\n",
    "    \n",
    "    \n",
    "    # To calculate the training score/error as well, we will use splitted dataset manually intead of cross validation\n",
    "    model_1 = KNeighborsClassifier(n_neighbors=k)\n",
    "    model_1.fit(X_train, y_train)\n",
    "    train_score = model_1.score(X_train, y_train)\n",
    "    test_score = model_1.score(X_test, y_test)\n",
    "    # Storing training and testing score for each value of k\n",
    "    knn_acc.update({k:(np.round(train_score,2), np.round(test_score,2))})\n",
    "    "
   ]
  },
  {
   "cell_type": "code",
   "execution_count": 59,
   "id": "7cd036b4",
   "metadata": {},
   "outputs": [
    {
     "data": {
      "text/plain": [
       "{1: (1.0, 0.78),\n",
       " 2: (0.85, 0.67),\n",
       " 3: (0.83, 0.74),\n",
       " 4: (0.78, 0.67),\n",
       " 5: (0.73, 0.67),\n",
       " 6: (0.76, 0.63),\n",
       " 7: (0.72, 0.63),\n",
       " 8: (0.73, 0.61),\n",
       " 9: (0.69, 0.63),\n",
       " 10: (0.7, 0.63),\n",
       " 11: (0.65, 0.61),\n",
       " 12: (0.68, 0.61),\n",
       " 13: (0.67, 0.61),\n",
       " 14: (0.64, 0.69),\n",
       " 15: (0.66, 0.65),\n",
       " 16: (0.66, 0.67),\n",
       " 17: (0.66, 0.67),\n",
       " 18: (0.66, 0.69),\n",
       " 19: (0.65, 0.69),\n",
       " 20: (0.66, 0.69),\n",
       " 21: (0.64, 0.67),\n",
       " 22: (0.64, 0.67),\n",
       " 23: (0.64, 0.65),\n",
       " 24: (0.64, 0.67),\n",
       " 25: (0.63, 0.65),\n",
       " 26: (0.64, 0.63),\n",
       " 27: (0.62, 0.65),\n",
       " 28: (0.61, 0.59),\n",
       " 29: (0.61, 0.57),\n",
       " 30: (0.61, 0.59)}"
      ]
     },
     "execution_count": 59,
     "metadata": {},
     "output_type": "execute_result"
    }
   ],
   "source": [
    "knn_acc"
   ]
  },
  {
   "cell_type": "code",
   "execution_count": 76,
   "id": "e8719233",
   "metadata": {},
   "outputs": [
    {
     "data": {
      "text/html": [
       "<div>\n",
       "<style scoped>\n",
       "    .dataframe tbody tr th:only-of-type {\n",
       "        vertical-align: middle;\n",
       "    }\n",
       "\n",
       "    .dataframe tbody tr th {\n",
       "        vertical-align: top;\n",
       "    }\n",
       "\n",
       "    .dataframe thead th {\n",
       "        text-align: right;\n",
       "    }\n",
       "</style>\n",
       "<table border=\"1\" class=\"dataframe\">\n",
       "  <thead>\n",
       "    <tr style=\"text-align: right;\">\n",
       "      <th></th>\n",
       "      <th>score</th>\n",
       "      <th>error</th>\n",
       "    </tr>\n",
       "  </thead>\n",
       "  <tbody>\n",
       "    <tr>\n",
       "      <th>1</th>\n",
       "      <td>0.626559</td>\n",
       "      <td>0.373441</td>\n",
       "    </tr>\n",
       "    <tr>\n",
       "      <th>2</th>\n",
       "      <td>0.602553</td>\n",
       "      <td>0.397447</td>\n",
       "    </tr>\n",
       "    <tr>\n",
       "      <th>3</th>\n",
       "      <td>0.570934</td>\n",
       "      <td>0.429066</td>\n",
       "    </tr>\n",
       "    <tr>\n",
       "      <th>4</th>\n",
       "      <td>0.557364</td>\n",
       "      <td>0.442636</td>\n",
       "    </tr>\n",
       "    <tr>\n",
       "      <th>5</th>\n",
       "      <td>0.577174</td>\n",
       "      <td>0.422826</td>\n",
       "    </tr>\n",
       "  </tbody>\n",
       "</table>\n",
       "</div>"
      ],
      "text/plain": [
       "      score     error\n",
       "1  0.626559  0.373441\n",
       "2  0.602553  0.397447\n",
       "3  0.570934  0.429066\n",
       "4  0.557364  0.442636\n",
       "5  0.577174  0.422826"
      ]
     },
     "execution_count": 76,
     "metadata": {},
     "output_type": "execute_result"
    }
   ],
   "source": [
    "grid_scores = pd.DataFrame(grid_cv, index=['score','error']).T\n",
    "grid_scores.head()"
   ]
  },
  {
   "cell_type": "code",
   "execution_count": 75,
   "id": "4c91d80c",
   "metadata": {},
   "outputs": [
    {
     "data": {
      "text/html": [
       "<div>\n",
       "<style scoped>\n",
       "    .dataframe tbody tr th:only-of-type {\n",
       "        vertical-align: middle;\n",
       "    }\n",
       "\n",
       "    .dataframe tbody tr th {\n",
       "        vertical-align: top;\n",
       "    }\n",
       "\n",
       "    .dataframe thead th {\n",
       "        text-align: right;\n",
       "    }\n",
       "</style>\n",
       "<table border=\"1\" class=\"dataframe\">\n",
       "  <thead>\n",
       "    <tr style=\"text-align: right;\">\n",
       "      <th></th>\n",
       "      <th>score</th>\n",
       "      <th>error</th>\n",
       "    </tr>\n",
       "  </thead>\n",
       "  <tbody>\n",
       "    <tr>\n",
       "      <th>1</th>\n",
       "      <td>0.626559</td>\n",
       "      <td>0.373441</td>\n",
       "    </tr>\n",
       "    <tr>\n",
       "      <th>2</th>\n",
       "      <td>0.602553</td>\n",
       "      <td>0.397447</td>\n",
       "    </tr>\n",
       "    <tr>\n",
       "      <th>5</th>\n",
       "      <td>0.577174</td>\n",
       "      <td>0.422826</td>\n",
       "    </tr>\n",
       "    <tr>\n",
       "      <th>6</th>\n",
       "      <td>0.574350</td>\n",
       "      <td>0.425650</td>\n",
       "    </tr>\n",
       "    <tr>\n",
       "      <th>3</th>\n",
       "      <td>0.570934</td>\n",
       "      <td>0.429066</td>\n",
       "    </tr>\n",
       "  </tbody>\n",
       "</table>\n",
       "</div>"
      ],
      "text/plain": [
       "      score     error\n",
       "1  0.626559  0.373441\n",
       "2  0.602553  0.397447\n",
       "5  0.577174  0.422826\n",
       "6  0.574350  0.425650\n",
       "3  0.570934  0.429066"
      ]
     },
     "execution_count": 75,
     "metadata": {},
     "output_type": "execute_result"
    }
   ],
   "source": [
    "grid_scores.sort_values(['score'],ascending=False).head()"
   ]
  },
  {
   "cell_type": "code",
   "execution_count": 77,
   "id": "5203bee1",
   "metadata": {},
   "outputs": [
    {
     "data": {
      "image/png": "[encoded data removed]",
      "text/plain": [
       "<Figure size 432x288 with 1 Axes>"
      ]
     },
     "metadata": {
      "needs_background": "light"
     },
     "output_type": "display_data"
    }
   ],
   "source": [
    "import matplotlib.pyplot as plt\n",
    "\n",
    "plt.plot(grid_scores.index, grid_scores['score'])\n",
    "plt.show()"
   ]
  },
  {
   "cell_type": "code",
   "execution_count": 79,
   "id": "1ed1df4d",
   "metadata": {},
   "outputs": [
    {
     "data": {
      "text/html": [
       "<div>\n",
       "<style scoped>\n",
       "    .dataframe tbody tr th:only-of-type {\n",
       "        vertical-align: middle;\n",
       "    }\n",
       "\n",
       "    .dataframe tbody tr th {\n",
       "        vertical-align: top;\n",
       "    }\n",
       "\n",
       "    .dataframe thead th {\n",
       "        text-align: right;\n",
       "    }\n",
       "</style>\n",
       "<table border=\"1\" class=\"dataframe\">\n",
       "  <thead>\n",
       "    <tr style=\"text-align: right;\">\n",
       "      <th></th>\n",
       "      <th>train_score</th>\n",
       "      <th>test_score</th>\n",
       "    </tr>\n",
       "  </thead>\n",
       "  <tbody>\n",
       "    <tr>\n",
       "      <th>1</th>\n",
       "      <td>1.00</td>\n",
       "      <td>0.78</td>\n",
       "    </tr>\n",
       "    <tr>\n",
       "      <th>2</th>\n",
       "      <td>0.85</td>\n",
       "      <td>0.67</td>\n",
       "    </tr>\n",
       "    <tr>\n",
       "      <th>3</th>\n",
       "      <td>0.83</td>\n",
       "      <td>0.74</td>\n",
       "    </tr>\n",
       "    <tr>\n",
       "      <th>4</th>\n",
       "      <td>0.78</td>\n",
       "      <td>0.67</td>\n",
       "    </tr>\n",
       "    <tr>\n",
       "      <th>5</th>\n",
       "      <td>0.73</td>\n",
       "      <td>0.67</td>\n",
       "    </tr>\n",
       "  </tbody>\n",
       "</table>\n",
       "</div>"
      ],
      "text/plain": [
       "   train_score  test_score\n",
       "1         1.00        0.78\n",
       "2         0.85        0.67\n",
       "3         0.83        0.74\n",
       "4         0.78        0.67\n",
       "5         0.73        0.67"
      ]
     },
     "execution_count": 79,
     "metadata": {},
     "output_type": "execute_result"
    }
   ],
   "source": [
    "scores_df = pd.DataFrame(knn_acc, index=['train_score','test_score']).T\n",
    "scores_df.head()"
   ]
  },
  {
   "cell_type": "code",
   "execution_count": 72,
   "id": "35c29a05",
   "metadata": {},
   "outputs": [
    {
     "data": {
      "image/png": "[encoded data removed]",
      "text/plain": [
       "<Figure size 1080x360 with 2 Axes>"
      ]
     },
     "metadata": {
      "needs_background": "light"
     },
     "output_type": "display_data"
    }
   ],
   "source": [
    "fig, ax = plt.subplots(1,2, figsize=(15,5))\n",
    "\n",
    "ax[0].plot(scores_df.index, scores_df['train_score'])\n",
    "ax[0].set_xlabel('Value of k')\n",
    "ax[0].set_ylabel('Training Accuracy Score')\n",
    "\n",
    "ax[1].plot(scores_df.index, scores_df['test_score'])\n",
    "ax[1].set_xlabel('Value of k')\n",
    "ax[1].set_ylabel('Testing Accuracy Score')\n",
    "\n",
    "plt.show()"
   ]
  },
  {
   "cell_type": "markdown",
   "id": "bcba6300",
   "metadata": {},
   "source": [
    "### Usually, if training score = highest at vale k=1, then testing score should be low because of overfitting. But its's not the case, ignoring k=1. After k=1, testing score is highest at k=3"
   ]
  },
  {
   "cell_type": "code",
   "execution_count": 74,
   "id": "fc2f3e86",
   "metadata": {},
   "outputs": [
    {
     "data": {
      "text/html": [
       "<div>\n",
       "<style scoped>\n",
       "    .dataframe tbody tr th:only-of-type {\n",
       "        vertical-align: middle;\n",
       "    }\n",
       "\n",
       "    .dataframe tbody tr th {\n",
       "        vertical-align: top;\n",
       "    }\n",
       "\n",
       "    .dataframe thead th {\n",
       "        text-align: right;\n",
       "    }\n",
       "</style>\n",
       "<table border=\"1\" class=\"dataframe\">\n",
       "  <thead>\n",
       "    <tr style=\"text-align: right;\">\n",
       "      <th></th>\n",
       "      <th>train_score</th>\n",
       "      <th>test_score</th>\n",
       "    </tr>\n",
       "  </thead>\n",
       "  <tbody>\n",
       "    <tr>\n",
       "      <th>1</th>\n",
       "      <td>1.00</td>\n",
       "      <td>0.78</td>\n",
       "    </tr>\n",
       "    <tr>\n",
       "      <th>3</th>\n",
       "      <td>0.83</td>\n",
       "      <td>0.74</td>\n",
       "    </tr>\n",
       "    <tr>\n",
       "      <th>14</th>\n",
       "      <td>0.64</td>\n",
       "      <td>0.69</td>\n",
       "    </tr>\n",
       "    <tr>\n",
       "      <th>20</th>\n",
       "      <td>0.66</td>\n",
       "      <td>0.69</td>\n",
       "    </tr>\n",
       "    <tr>\n",
       "      <th>19</th>\n",
       "      <td>0.65</td>\n",
       "      <td>0.69</td>\n",
       "    </tr>\n",
       "  </tbody>\n",
       "</table>\n",
       "</div>"
      ],
      "text/plain": [
       "    train_score  test_score\n",
       "1          1.00        0.78\n",
       "3          0.83        0.74\n",
       "14         0.64        0.69\n",
       "20         0.66        0.69\n",
       "19         0.65        0.69"
      ]
     },
     "execution_count": 74,
     "metadata": {},
     "output_type": "execute_result"
    }
   ],
   "source": [
    "scores_df.sort_values(['test_score'], ascending=False).head()"
   ]
  },
  {
   "cell_type": "markdown",
   "id": "1c63f43c",
   "metadata": {},
   "source": [
    "### Hence, preparing the final model with k=3"
   ]
  },
  {
   "cell_type": "code",
   "execution_count": 94,
   "id": "b651ff3e",
   "metadata": {},
   "outputs": [
    {
     "name": "stdout",
     "output_type": "stream",
     "text": [
      "0.64494301994302\n"
     ]
    }
   ],
   "source": [
    "finalKNN_model = KNeighborsClassifier(n_neighbors=3)\n",
    "finalKNN_model.fit(X, y)\n",
    "\n",
    "final_score = cross_val_score(finalKNN_model, X, y, cv=8)\n",
    "\n",
    "print(final_score.mean())\n"
   ]
  },
  {
   "cell_type": "markdown",
   "id": "a6119270",
   "metadata": {},
   "source": [
    "### KNN Model with 65% accuracy. \n",
    "### Taking a random data row and will try to predict its class from the upper build model. "
   ]
  },
  {
   "cell_type": "code",
   "execution_count": 110,
   "id": "59901e34",
   "metadata": {},
   "outputs": [
    {
     "data": {
      "text/html": [
       "<div>\n",
       "<style scoped>\n",
       "    .dataframe tbody tr th:only-of-type {\n",
       "        vertical-align: middle;\n",
       "    }\n",
       "\n",
       "    .dataframe tbody tr th {\n",
       "        vertical-align: top;\n",
       "    }\n",
       "\n",
       "    .dataframe thead th {\n",
       "        text-align: right;\n",
       "    }\n",
       "</style>\n",
       "<table border=\"1\" class=\"dataframe\">\n",
       "  <thead>\n",
       "    <tr style=\"text-align: right;\">\n",
       "      <th></th>\n",
       "      <th>RI</th>\n",
       "      <th>Na</th>\n",
       "      <th>Mg</th>\n",
       "      <th>Al</th>\n",
       "      <th>Si</th>\n",
       "      <th>K</th>\n",
       "      <th>Ca</th>\n",
       "      <th>Ba</th>\n",
       "      <th>Fe</th>\n",
       "      <th>Type</th>\n",
       "    </tr>\n",
       "  </thead>\n",
       "  <tbody>\n",
       "    <tr>\n",
       "      <th>207</th>\n",
       "      <td>1.51831</td>\n",
       "      <td>14.39</td>\n",
       "      <td>0.0</td>\n",
       "      <td>1.82</td>\n",
       "      <td>72.86</td>\n",
       "      <td>1.41</td>\n",
       "      <td>6.47</td>\n",
       "      <td>2.88</td>\n",
       "      <td>0.0</td>\n",
       "      <td>7</td>\n",
       "    </tr>\n",
       "  </tbody>\n",
       "</table>\n",
       "</div>"
      ],
      "text/plain": [
       "          RI     Na   Mg    Al     Si     K    Ca    Ba   Fe  Type\n",
       "207  1.51831  14.39  0.0  1.82  72.86  1.41  6.47  2.88  0.0     7"
      ]
     },
     "execution_count": 110,
     "metadata": {},
     "output_type": "execute_result"
    }
   ],
   "source": [
    "sample = data.sample()\n",
    "sample"
   ]
  },
  {
   "cell_type": "code",
   "execution_count": 111,
   "id": "37df2802",
   "metadata": {},
   "outputs": [
    {
     "data": {
      "text/plain": [
       "array([7], dtype=int64)"
      ]
     },
     "execution_count": 111,
     "metadata": {},
     "output_type": "execute_result"
    }
   ],
   "source": [
    "sample_X = sample.iloc[:,0:-1]\n",
    "sample_y = finalKNN_model.predict(sample_X)\n",
    "sample_y"
   ]
  }
 ],
 "metadata": {
  "kernelspec": {
   "display_name": "Python 3 (ipykernel)",
   "language": "python",
   "name": "python3"
  },
  "language_info": {
   "codemirror_mode": {
    "name": "ipython",
    "version": 3
   },
   "file_extension": ".py",
   "mimetype": "text/x-python",
   "name": "python",
   "nbconvert_exporter": "python",
   "pygments_lexer": "ipython3",
   "version": "3.9.12"
  }
 },
 "nbformat": 4,
 "nbformat_minor": 5
}

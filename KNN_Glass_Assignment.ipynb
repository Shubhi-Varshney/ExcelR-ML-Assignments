{
 "cells": [
  {
   "cell_type": "code",
   "execution_count": null,
   "id": "d173a11f",
   "metadata": {},
   "outputs": [],
   "source": [
    "import pandas as pd"
   ]
  },
  {
   "cell_type": "code",
   "execution_count": null,
   "id": "0d5abf19",
   "metadata": {},
   "outputs": [],
   "source": [
    "data = pd.read_csv('glass.csv')\n",
    "data.head()"
   ]
  },
  {
   "cell_type": "code",
   "execution_count": null,
   "id": "d82018a2",
   "metadata": {},
   "outputs": [],
   "source": [
    "data.info()"
   ]
  },
  {
   "cell_type": "code",
   "execution_count": null,
   "id": "eda60663",
   "metadata": {},
   "outputs": [],
   "source": [
    "data['Type'].value_counts()"
   ]
  },
  {
   "cell_type": "code",
   "execution_count": null,
   "id": "0b8fc0db",
   "metadata": {},
   "outputs": [],
   "source": [
    "# Looking that sum of different elements sum upto 100. \n",
    "# Understanding that one type of glass corresponds to the different compositions of elements\n",
    "# Refractive Index = the ratio of the speed of light in a vacuum to the ratio of the speed of light in a specific medium (glass)\n",
    "data.iloc[:,1:-1].sum(axis=1).astype('int').value_counts()"
   ]
  },
  {
   "cell_type": "code",
   "execution_count": null,
   "id": "b6a39bc6",
   "metadata": {},
   "outputs": [],
   "source": [
    "## Separating X and y variables\n",
    "X = data.iloc[:, :-1]\n",
    "#X.head()\n",
    "\n",
    "y = data.iloc[: , -1]\n",
    "#y.head()"
   ]
  },
  {
   "cell_type": "code",
   "execution_count": null,
   "id": "611eba28",
   "metadata": {},
   "outputs": [],
   "source": [
    "from sklearn.neighbors import KNeighborsClassifier\n",
    "from sklearn.model_selection import GridSearchCV\n",
    "from sklearn.model_selection import cross_val_score, KFold\n",
    "import numpy as np\n",
    "\n",
    "params = dict(n_neighbors = np.array(range(1, 40)))\n",
    "model = KNeighborsClassifier()\n",
    "grid = GridSearchCV(model, param_grid= params, cv =5)\n",
    "\n",
    "grid.fit(X, y)\n",
    "\n",
    "print(grid.best_score_)\n",
    "print(grid.best_params_)\n",
    "print(grid.score)\n"
   ]
  },
  {
   "cell_type": "code",
   "execution_count": null,
   "id": "006d4a4c",
   "metadata": {},
   "outputs": [],
   "source": [
    "grid.scorer_"
   ]
  },
  {
   "cell_type": "code",
   "execution_count": null,
   "id": "ee5c1ca7",
   "metadata": {},
   "outputs": [],
   "source": []
  },
  {
   "cell_type": "code",
   "execution_count": null,
   "id": "951e913c",
   "metadata": {},
   "outputs": [],
   "source": [
    "# Defining the param grid for k - 1 to 31\n",
    "grid = range(1,31)\n",
    "grid_cv = {}\n",
    "\n",
    "for k in grid:\n",
    "    model = KNeighborsClassifier(n_neighbors=k)\n",
    "    # using cv = 5 ( K-fold) to calculate 10 scores for each value of k.\n",
    "    scores = cross_val_score(model, X, y, cv =5, scoring='f1_weighted')\n",
    "    result = scores.mean()\n",
    "    error = 1-result\n",
    "    # storing the scores for each value of k in a dictionary\n",
    "    grid_cv.update({k:(result,error)})\n",
    "    "
   ]
  },
  {
   "cell_type": "code",
   "execution_count": null,
   "id": "b985d40c",
   "metadata": {},
   "outputs": [],
   "source": [
    "# df = pd.DataFrame(grid_cv, index=['scores']).T\n",
    "# df.sort_values(['scores'], ascending=False)"
   ]
  },
  {
   "cell_type": "code",
   "execution_count": null,
   "id": "e8719233",
   "metadata": {},
   "outputs": [],
   "source": [
    "grid_cv\n",
    "\n",
    "df_new = pd.DataFrame(grid_cv, index=['score','error']).T\n",
    "df_new"
   ]
  },
  {
   "cell_type": "code",
   "execution_count": null,
   "id": "4c91d80c",
   "metadata": {},
   "outputs": [],
   "source": [
    "df_new.sort_values(['score'],ascending=False)"
   ]
  },
  {
   "cell_type": "code",
   "execution_count": null,
   "id": "5203bee1",
   "metadata": {},
   "outputs": [],
   "source": [
    "import matplotlib.pyplot as plt\n",
    "\n",
    "plt.plot(df_new.index, df_new['error'])\n",
    "plt.show()"
   ]
  },
  {
   "cell_type": "markdown",
   "id": "e11bfb9a",
   "metadata": {},
   "source": [
    "### Trying with train and test splitting method"
   ]
  },
  {
   "cell_type": "code",
   "execution_count": 98,
   "id": "d2d5d5a9",
   "metadata": {},
   "outputs": [
    {
     "name": "stdout",
     "output_type": "stream",
     "text": [
      "              precision    recall  f1-score   support\n",
      "\n",
      "           1       0.56      0.83      0.67        18\n",
      "           2       0.69      0.58      0.63        19\n",
      "           3       0.00      0.00      0.00         4\n",
      "           5       0.60      1.00      0.75         3\n",
      "           6       0.50      0.50      0.50         2\n",
      "           7       1.00      0.50      0.67         8\n",
      "\n",
      "    accuracy                           0.63        54\n",
      "   macro avg       0.56      0.57      0.54        54\n",
      "weighted avg       0.63      0.63      0.60        54\n",
      "\n"
     ]
    },
    {
     "name": "stderr",
     "output_type": "stream",
     "text": [
      "C:\\Users\\Ridaan\\anaconda3\\lib\\site-packages\\sklearn\\metrics\\_classification.py:1318: UndefinedMetricWarning: Precision and F-score are ill-defined and being set to 0.0 in labels with no predicted samples. Use `zero_division` parameter to control this behavior.\n",
      "  _warn_prf(average, modifier, msg_start, len(result))\n",
      "C:\\Users\\Ridaan\\anaconda3\\lib\\site-packages\\sklearn\\metrics\\_classification.py:1318: UndefinedMetricWarning: Precision and F-score are ill-defined and being set to 0.0 in labels with no predicted samples. Use `zero_division` parameter to control this behavior.\n",
      "  _warn_prf(average, modifier, msg_start, len(result))\n",
      "C:\\Users\\Ridaan\\anaconda3\\lib\\site-packages\\sklearn\\metrics\\_classification.py:1318: UndefinedMetricWarning: Precision and F-score are ill-defined and being set to 0.0 in labels with no predicted samples. Use `zero_division` parameter to control this behavior.\n",
      "  _warn_prf(average, modifier, msg_start, len(result))\n"
     ]
    }
   ],
   "source": [
    "from sklearn.model_selection import train_test_split\n",
    "\n",
    "\n",
    "X_train, X_test, y_train, y_test = train_test_split(X, y, stratify=y, random_state=45)\n",
    "\n",
    "model1 = KNeighborsClassifier(n_neighbors=5)\n",
    "model1.fit(X_train, y_train)\n",
    "y_pred1 = model1.predict(X_test)\n",
    "\n",
    "print(classification_report(y_test, y_pred1))"
   ]
  },
  {
   "cell_type": "code",
   "execution_count": 120,
   "id": "fdfe4047",
   "metadata": {},
   "outputs": [
    {
     "data": {
      "text/plain": [
       "array([[0.        , 0.2412468 , 0.32480767, 0.35000036, 0.43046487]])"
      ]
     },
     "execution_count": 120,
     "metadata": {},
     "output_type": "execute_result"
    }
   ],
   "source": [
    "test_sample = X_train.head(1)\n",
    "#y_sample = model1.predict(test_sample)\n",
    "model1.kneighbors(test_sample)[0]"
   ]
  },
  {
   "cell_type": "code",
   "execution_count": 99,
   "id": "6a1d4c1c",
   "metadata": {},
   "outputs": [
    {
     "data": {
      "text/plain": [
       "2    19\n",
       "1    18\n",
       "7     8\n",
       "3     4\n",
       "5     3\n",
       "6     2\n",
       "Name: Type, dtype: int64"
      ]
     },
     "execution_count": 99,
     "metadata": {},
     "output_type": "execute_result"
    }
   ],
   "source": [
    "y_test.value_counts()"
   ]
  },
  {
   "cell_type": "code",
   "execution_count": 107,
   "id": "72a217df",
   "metadata": {},
   "outputs": [],
   "source": [
    "from sklearn.metrics import f1_score, classification_report\n",
    "k_metrics = {}"
   ]
  },
  {
   "cell_type": "code",
   "execution_count": 121,
   "id": "70a32870",
   "metadata": {},
   "outputs": [],
   "source": [
    "def Elbow(K):\n",
    "    for i in K:\n",
    "        model = KNeighborsClassifier(n_neighbors=i)\n",
    "        model.fit(X_train, y_train)\n",
    "        y_predict = model.predict(X_test)    \n",
    "        f1 = f1_score(y_predict, y_test, average='weighted')\n",
    "        error = 1-f1\n",
    "        k_metrics.update({i:(f1, error)})        \n",
    "    return k_metrics\n"
   ]
  },
  {
   "cell_type": "code",
   "execution_count": 122,
   "id": "9e90a71c",
   "metadata": {},
   "outputs": [
    {
     "data": {
      "text/plain": [
       "{1: (0.7329651877455495, 0.26703481225445047),\n",
       " 2: (0.6884353741496598, 0.31156462585034017),\n",
       " 3: (0.5976774116308999, 0.40232258836910006),\n",
       " 4: (0.6226366226366227, 0.37736337736337733),\n",
       " 5: (0.6569223985890653, 0.3430776014109347),\n",
       " 6: (0.5849842516509183, 0.4150157483490817),\n",
       " 7: (0.5774373913908798, 0.4225626086091202),\n",
       " 8: (0.5890804425688146, 0.41091955743118536),\n",
       " 9: (0.5866060866060866, 0.4133939133939134),\n",
       " 10: (0.5885461218794552, 0.4114538781205448),\n",
       " 11: (0.5675854148722366, 0.43241458512776343),\n",
       " 12: (0.6049569771791995, 0.3950430228208005),\n",
       " 13: (0.59325992659326, 0.40674007340674),\n",
       " 14: (0.6096707818930042, 0.39032921810699583),\n",
       " 15: (0.6077589217124101, 0.3922410782875899),\n",
       " 16: (0.6077589217124101, 0.3922410782875899),\n",
       " 17: (0.572099372099372, 0.427900627900628),\n",
       " 18: (0.572099372099372, 0.427900627900628),\n",
       " 19: (0.5709876543209876, 0.42901234567901236),\n",
       " 20: (0.5889389389389389, 0.4110610610610611),\n",
       " 21: (0.59006734006734, 0.40993265993266004),\n",
       " 22: (0.5889389389389389, 0.4110610610610611),\n",
       " 23: (0.5860312526979193, 0.41396874730208066),\n",
       " 24: (0.5860312526979193, 0.41396874730208066),\n",
       " 25: (0.5860312526979193, 0.41396874730208066),\n",
       " 26: (0.5864125753660637, 0.4135874246339363),\n",
       " 27: (0.5864125753660637, 0.4135874246339363),\n",
       " 28: (0.627390180878553, 0.372609819121447),\n",
       " 29: (0.627390180878553, 0.372609819121447),\n",
       " 30: (0.627390180878553, 0.372609819121447)}"
      ]
     },
     "execution_count": 122,
     "metadata": {},
     "output_type": "execute_result"
    }
   ],
   "source": [
    "n_neigh = np.array(range(1, 31))\n",
    "results = Elbow(n_neigh)\n",
    "results"
   ]
  },
  {
   "cell_type": "code",
   "execution_count": 123,
   "id": "470f41fe",
   "metadata": {},
   "outputs": [
    {
     "data": {
      "text/html": [
       "<div>\n",
       "<style scoped>\n",
       "    .dataframe tbody tr th:only-of-type {\n",
       "        vertical-align: middle;\n",
       "    }\n",
       "\n",
       "    .dataframe tbody tr th {\n",
       "        vertical-align: top;\n",
       "    }\n",
       "\n",
       "    .dataframe thead th {\n",
       "        text-align: right;\n",
       "    }\n",
       "</style>\n",
       "<table border=\"1\" class=\"dataframe\">\n",
       "  <thead>\n",
       "    <tr style=\"text-align: right;\">\n",
       "      <th></th>\n",
       "      <th>score</th>\n",
       "      <th>error</th>\n",
       "    </tr>\n",
       "  </thead>\n",
       "  <tbody>\n",
       "    <tr>\n",
       "      <th>1</th>\n",
       "      <td>0.732965</td>\n",
       "      <td>0.267035</td>\n",
       "    </tr>\n",
       "    <tr>\n",
       "      <th>2</th>\n",
       "      <td>0.688435</td>\n",
       "      <td>0.311565</td>\n",
       "    </tr>\n",
       "    <tr>\n",
       "      <th>3</th>\n",
       "      <td>0.597677</td>\n",
       "      <td>0.402323</td>\n",
       "    </tr>\n",
       "    <tr>\n",
       "      <th>4</th>\n",
       "      <td>0.622637</td>\n",
       "      <td>0.377363</td>\n",
       "    </tr>\n",
       "    <tr>\n",
       "      <th>5</th>\n",
       "      <td>0.656922</td>\n",
       "      <td>0.343078</td>\n",
       "    </tr>\n",
       "    <tr>\n",
       "      <th>6</th>\n",
       "      <td>0.584984</td>\n",
       "      <td>0.415016</td>\n",
       "    </tr>\n",
       "    <tr>\n",
       "      <th>7</th>\n",
       "      <td>0.577437</td>\n",
       "      <td>0.422563</td>\n",
       "    </tr>\n",
       "    <tr>\n",
       "      <th>8</th>\n",
       "      <td>0.589080</td>\n",
       "      <td>0.410920</td>\n",
       "    </tr>\n",
       "    <tr>\n",
       "      <th>9</th>\n",
       "      <td>0.586606</td>\n",
       "      <td>0.413394</td>\n",
       "    </tr>\n",
       "    <tr>\n",
       "      <th>10</th>\n",
       "      <td>0.588546</td>\n",
       "      <td>0.411454</td>\n",
       "    </tr>\n",
       "    <tr>\n",
       "      <th>11</th>\n",
       "      <td>0.567585</td>\n",
       "      <td>0.432415</td>\n",
       "    </tr>\n",
       "    <tr>\n",
       "      <th>12</th>\n",
       "      <td>0.604957</td>\n",
       "      <td>0.395043</td>\n",
       "    </tr>\n",
       "    <tr>\n",
       "      <th>13</th>\n",
       "      <td>0.593260</td>\n",
       "      <td>0.406740</td>\n",
       "    </tr>\n",
       "    <tr>\n",
       "      <th>14</th>\n",
       "      <td>0.609671</td>\n",
       "      <td>0.390329</td>\n",
       "    </tr>\n",
       "    <tr>\n",
       "      <th>15</th>\n",
       "      <td>0.607759</td>\n",
       "      <td>0.392241</td>\n",
       "    </tr>\n",
       "    <tr>\n",
       "      <th>16</th>\n",
       "      <td>0.607759</td>\n",
       "      <td>0.392241</td>\n",
       "    </tr>\n",
       "    <tr>\n",
       "      <th>17</th>\n",
       "      <td>0.572099</td>\n",
       "      <td>0.427901</td>\n",
       "    </tr>\n",
       "    <tr>\n",
       "      <th>18</th>\n",
       "      <td>0.572099</td>\n",
       "      <td>0.427901</td>\n",
       "    </tr>\n",
       "    <tr>\n",
       "      <th>19</th>\n",
       "      <td>0.570988</td>\n",
       "      <td>0.429012</td>\n",
       "    </tr>\n",
       "    <tr>\n",
       "      <th>20</th>\n",
       "      <td>0.588939</td>\n",
       "      <td>0.411061</td>\n",
       "    </tr>\n",
       "    <tr>\n",
       "      <th>21</th>\n",
       "      <td>0.590067</td>\n",
       "      <td>0.409933</td>\n",
       "    </tr>\n",
       "    <tr>\n",
       "      <th>22</th>\n",
       "      <td>0.588939</td>\n",
       "      <td>0.411061</td>\n",
       "    </tr>\n",
       "    <tr>\n",
       "      <th>23</th>\n",
       "      <td>0.586031</td>\n",
       "      <td>0.413969</td>\n",
       "    </tr>\n",
       "    <tr>\n",
       "      <th>24</th>\n",
       "      <td>0.586031</td>\n",
       "      <td>0.413969</td>\n",
       "    </tr>\n",
       "    <tr>\n",
       "      <th>25</th>\n",
       "      <td>0.586031</td>\n",
       "      <td>0.413969</td>\n",
       "    </tr>\n",
       "    <tr>\n",
       "      <th>26</th>\n",
       "      <td>0.586413</td>\n",
       "      <td>0.413587</td>\n",
       "    </tr>\n",
       "    <tr>\n",
       "      <th>27</th>\n",
       "      <td>0.586413</td>\n",
       "      <td>0.413587</td>\n",
       "    </tr>\n",
       "    <tr>\n",
       "      <th>28</th>\n",
       "      <td>0.627390</td>\n",
       "      <td>0.372610</td>\n",
       "    </tr>\n",
       "    <tr>\n",
       "      <th>29</th>\n",
       "      <td>0.627390</td>\n",
       "      <td>0.372610</td>\n",
       "    </tr>\n",
       "    <tr>\n",
       "      <th>30</th>\n",
       "      <td>0.627390</td>\n",
       "      <td>0.372610</td>\n",
       "    </tr>\n",
       "  </tbody>\n",
       "</table>\n",
       "</div>"
      ],
      "text/plain": [
       "       score     error\n",
       "1   0.732965  0.267035\n",
       "2   0.688435  0.311565\n",
       "3   0.597677  0.402323\n",
       "4   0.622637  0.377363\n",
       "5   0.656922  0.343078\n",
       "6   0.584984  0.415016\n",
       "7   0.577437  0.422563\n",
       "8   0.589080  0.410920\n",
       "9   0.586606  0.413394\n",
       "10  0.588546  0.411454\n",
       "11  0.567585  0.432415\n",
       "12  0.604957  0.395043\n",
       "13  0.593260  0.406740\n",
       "14  0.609671  0.390329\n",
       "15  0.607759  0.392241\n",
       "16  0.607759  0.392241\n",
       "17  0.572099  0.427901\n",
       "18  0.572099  0.427901\n",
       "19  0.570988  0.429012\n",
       "20  0.588939  0.411061\n",
       "21  0.590067  0.409933\n",
       "22  0.588939  0.411061\n",
       "23  0.586031  0.413969\n",
       "24  0.586031  0.413969\n",
       "25  0.586031  0.413969\n",
       "26  0.586413  0.413587\n",
       "27  0.586413  0.413587\n",
       "28  0.627390  0.372610\n",
       "29  0.627390  0.372610\n",
       "30  0.627390  0.372610"
      ]
     },
     "execution_count": 123,
     "metadata": {},
     "output_type": "execute_result"
    }
   ],
   "source": [
    "df_2 = pd.DataFrame(results, index=['score', 'error']).T\n",
    "df_2"
   ]
  },
  {
   "cell_type": "code",
   "execution_count": 125,
   "id": "572d323b",
   "metadata": {},
   "outputs": [
    {
     "data": {
      "image/png": "[encoded data removed]",
      "text/plain": [
       "<Figure size 432x288 with 1 Axes>"
      ]
     },
     "metadata": {
      "needs_background": "light"
     },
     "output_type": "display_data"
    }
   ],
   "source": [
    "plt.plot(df_2.index, df_2['error'])\n",
    "plt.show()"
   ]
  },
  {
   "cell_type": "code",
   "execution_count": null,
   "id": "776e2a86",
   "metadata": {},
   "outputs": [],
   "source": [
    "final_model = KNeighborsClassifier(n_neighbors=1)\n",
    "final_model.fit(X, y)\n"
   ]
  },
  {
   "cell_type": "code",
   "execution_count": null,
   "id": "5fe7cb68",
   "metadata": {},
   "outputs": [],
   "source": [
    "y_pred = final_model.predict(X)"
   ]
  },
  {
   "cell_type": "code",
   "execution_count": null,
   "id": "73482421",
   "metadata": {},
   "outputs": [],
   "source": [
    "final_model.kneighbors(X.iloc[0])"
   ]
  },
  {
   "cell_type": "code",
   "execution_count": null,
   "id": "507e5228",
   "metadata": {},
   "outputs": [],
   "source": [
    "data.describe()"
   ]
  },
  {
   "cell_type": "code",
   "execution_count": null,
   "id": "13464ca1",
   "metadata": {},
   "outputs": [],
   "source": [
    "from sklearn.metrics import accuracy_score\n"
   ]
  },
  {
   "cell_type": "code",
   "execution_count": 67,
   "id": "6fe917d6",
   "metadata": {},
   "outputs": [
    {
     "data": {
      "text/plain": [
       "1.0"
      ]
     },
     "execution_count": 67,
     "metadata": {},
     "output_type": "execute_result"
    }
   ],
   "source": [
    "accuracy_score(y_pred, y)"
   ]
  },
  {
   "cell_type": "code",
   "execution_count": null,
   "id": "1590fc3a",
   "metadata": {},
   "outputs": [],
   "source": []
  }
 ],
 "metadata": {
  "kernelspec": {
   "display_name": "Python 3 (ipykernel)",
   "language": "python",
   "name": "python3"
  },
  "language_info": {
   "codemirror_mode": {
    "name": "ipython",
    "version": 3
   },
   "file_extension": ".py",
   "mimetype": "text/x-python",
   "name": "python",
   "nbconvert_exporter": "python",
   "pygments_lexer": "ipython3",
   "version": "3.9.12"
  }
 },
 "nbformat": 4,
 "nbformat_minor": 5
}

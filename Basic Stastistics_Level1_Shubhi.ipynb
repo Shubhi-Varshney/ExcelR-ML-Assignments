{
 "cells": [
  {
   "cell_type": "markdown",
   "id": "c618c0d7",
   "metadata": {},
   "source": [
    "### Q7.csv file solution"
   ]
  },
  {
   "cell_type": "code",
   "execution_count": 42,
   "id": "6b741a41",
   "metadata": {},
   "outputs": [],
   "source": [
    "import pandas as pd\n",
    "\n",
    "data_Q7 = pd.read_csv('Q7.csv')"
   ]
  },
  {
   "cell_type": "code",
   "execution_count": 43,
   "id": "dda7b696",
   "metadata": {},
   "outputs": [
    {
     "data": {
      "text/html": [
       "<div>\n",
       "<style scoped>\n",
       "    .dataframe tbody tr th:only-of-type {\n",
       "        vertical-align: middle;\n",
       "    }\n",
       "\n",
       "    .dataframe tbody tr th {\n",
       "        vertical-align: top;\n",
       "    }\n",
       "\n",
       "    .dataframe thead th {\n",
       "        text-align: right;\n",
       "    }\n",
       "</style>\n",
       "<table border=\"1\" class=\"dataframe\">\n",
       "  <thead>\n",
       "    <tr style=\"text-align: right;\">\n",
       "      <th></th>\n",
       "      <th>Unnamed: 0</th>\n",
       "      <th>Points</th>\n",
       "      <th>Score</th>\n",
       "      <th>Weigh</th>\n",
       "    </tr>\n",
       "  </thead>\n",
       "  <tbody>\n",
       "    <tr>\n",
       "      <th>0</th>\n",
       "      <td>Mazda RX4</td>\n",
       "      <td>3.90</td>\n",
       "      <td>2.620</td>\n",
       "      <td>16.46</td>\n",
       "    </tr>\n",
       "    <tr>\n",
       "      <th>1</th>\n",
       "      <td>Mazda RX4 Wag</td>\n",
       "      <td>3.90</td>\n",
       "      <td>2.875</td>\n",
       "      <td>17.02</td>\n",
       "    </tr>\n",
       "    <tr>\n",
       "      <th>2</th>\n",
       "      <td>Datsun 710</td>\n",
       "      <td>3.85</td>\n",
       "      <td>2.320</td>\n",
       "      <td>18.61</td>\n",
       "    </tr>\n",
       "    <tr>\n",
       "      <th>3</th>\n",
       "      <td>Hornet 4 Drive</td>\n",
       "      <td>3.08</td>\n",
       "      <td>3.215</td>\n",
       "      <td>19.44</td>\n",
       "    </tr>\n",
       "    <tr>\n",
       "      <th>4</th>\n",
       "      <td>Hornet Sportabout</td>\n",
       "      <td>3.15</td>\n",
       "      <td>3.440</td>\n",
       "      <td>17.02</td>\n",
       "    </tr>\n",
       "  </tbody>\n",
       "</table>\n",
       "</div>"
      ],
      "text/plain": [
       "          Unnamed: 0  Points  Score  Weigh\n",
       "0          Mazda RX4    3.90  2.620  16.46\n",
       "1      Mazda RX4 Wag    3.90  2.875  17.02\n",
       "2         Datsun 710    3.85  2.320  18.61\n",
       "3     Hornet 4 Drive    3.08  3.215  19.44\n",
       "4  Hornet Sportabout    3.15  3.440  17.02"
      ]
     },
     "execution_count": 43,
     "metadata": {},
     "output_type": "execute_result"
    }
   ],
   "source": [
    "data_Q7.head()"
   ]
  },
  {
   "cell_type": "code",
   "execution_count": 44,
   "id": "a9d0df6e",
   "metadata": {},
   "outputs": [
    {
     "data": {
      "text/html": [
       "<div>\n",
       "<style scoped>\n",
       "    .dataframe tbody tr th:only-of-type {\n",
       "        vertical-align: middle;\n",
       "    }\n",
       "\n",
       "    .dataframe tbody tr th {\n",
       "        vertical-align: top;\n",
       "    }\n",
       "\n",
       "    .dataframe thead th {\n",
       "        text-align: right;\n",
       "    }\n",
       "</style>\n",
       "<table border=\"1\" class=\"dataframe\">\n",
       "  <thead>\n",
       "    <tr style=\"text-align: right;\">\n",
       "      <th></th>\n",
       "      <th>Points</th>\n",
       "      <th>Score</th>\n",
       "      <th>Weigh</th>\n",
       "    </tr>\n",
       "  </thead>\n",
       "  <tbody>\n",
       "    <tr>\n",
       "      <th>count</th>\n",
       "      <td>32.000000</td>\n",
       "      <td>32.000000</td>\n",
       "      <td>32.000000</td>\n",
       "    </tr>\n",
       "    <tr>\n",
       "      <th>mean</th>\n",
       "      <td>3.596563</td>\n",
       "      <td>3.217250</td>\n",
       "      <td>17.848750</td>\n",
       "    </tr>\n",
       "    <tr>\n",
       "      <th>std</th>\n",
       "      <td>0.534679</td>\n",
       "      <td>0.978457</td>\n",
       "      <td>1.786943</td>\n",
       "    </tr>\n",
       "    <tr>\n",
       "      <th>min</th>\n",
       "      <td>2.760000</td>\n",
       "      <td>1.513000</td>\n",
       "      <td>14.500000</td>\n",
       "    </tr>\n",
       "    <tr>\n",
       "      <th>25%</th>\n",
       "      <td>3.080000</td>\n",
       "      <td>2.581250</td>\n",
       "      <td>16.892500</td>\n",
       "    </tr>\n",
       "    <tr>\n",
       "      <th>50%</th>\n",
       "      <td>3.695000</td>\n",
       "      <td>3.325000</td>\n",
       "      <td>17.710000</td>\n",
       "    </tr>\n",
       "    <tr>\n",
       "      <th>75%</th>\n",
       "      <td>3.920000</td>\n",
       "      <td>3.610000</td>\n",
       "      <td>18.900000</td>\n",
       "    </tr>\n",
       "    <tr>\n",
       "      <th>max</th>\n",
       "      <td>4.930000</td>\n",
       "      <td>5.424000</td>\n",
       "      <td>22.900000</td>\n",
       "    </tr>\n",
       "  </tbody>\n",
       "</table>\n",
       "</div>"
      ],
      "text/plain": [
       "          Points      Score      Weigh\n",
       "count  32.000000  32.000000  32.000000\n",
       "mean    3.596563   3.217250  17.848750\n",
       "std     0.534679   0.978457   1.786943\n",
       "min     2.760000   1.513000  14.500000\n",
       "25%     3.080000   2.581250  16.892500\n",
       "50%     3.695000   3.325000  17.710000\n",
       "75%     3.920000   3.610000  18.900000\n",
       "max     4.930000   5.424000  22.900000"
      ]
     },
     "execution_count": 44,
     "metadata": {},
     "output_type": "execute_result"
    }
   ],
   "source": [
    "data_Q7.describe()"
   ]
  },
  {
   "cell_type": "markdown",
   "id": "1b20f3c5",
   "metadata": {},
   "source": [
    "### Q9_a.csv "
   ]
  },
  {
   "cell_type": "code",
   "execution_count": 14,
   "id": "d388a796",
   "metadata": {},
   "outputs": [],
   "source": [
    "data_q9 = pd.read_csv('Q9_a.csv', index_col = 0)"
   ]
  },
  {
   "cell_type": "code",
   "execution_count": 15,
   "id": "68819550",
   "metadata": {},
   "outputs": [
    {
     "data": {
      "text/html": [
       "<div>\n",
       "<style scoped>\n",
       "    .dataframe tbody tr th:only-of-type {\n",
       "        vertical-align: middle;\n",
       "    }\n",
       "\n",
       "    .dataframe tbody tr th {\n",
       "        vertical-align: top;\n",
       "    }\n",
       "\n",
       "    .dataframe thead th {\n",
       "        text-align: right;\n",
       "    }\n",
       "</style>\n",
       "<table border=\"1\" class=\"dataframe\">\n",
       "  <thead>\n",
       "    <tr style=\"text-align: right;\">\n",
       "      <th></th>\n",
       "      <th>speed</th>\n",
       "      <th>dist</th>\n",
       "    </tr>\n",
       "    <tr>\n",
       "      <th>Index</th>\n",
       "      <th></th>\n",
       "      <th></th>\n",
       "    </tr>\n",
       "  </thead>\n",
       "  <tbody>\n",
       "    <tr>\n",
       "      <th>1</th>\n",
       "      <td>4</td>\n",
       "      <td>2</td>\n",
       "    </tr>\n",
       "    <tr>\n",
       "      <th>2</th>\n",
       "      <td>4</td>\n",
       "      <td>10</td>\n",
       "    </tr>\n",
       "    <tr>\n",
       "      <th>3</th>\n",
       "      <td>7</td>\n",
       "      <td>4</td>\n",
       "    </tr>\n",
       "    <tr>\n",
       "      <th>4</th>\n",
       "      <td>7</td>\n",
       "      <td>22</td>\n",
       "    </tr>\n",
       "    <tr>\n",
       "      <th>5</th>\n",
       "      <td>8</td>\n",
       "      <td>16</td>\n",
       "    </tr>\n",
       "  </tbody>\n",
       "</table>\n",
       "</div>"
      ],
      "text/plain": [
       "       speed  dist\n",
       "Index             \n",
       "1          4     2\n",
       "2          4    10\n",
       "3          7     4\n",
       "4          7    22\n",
       "5          8    16"
      ]
     },
     "execution_count": 15,
     "metadata": {},
     "output_type": "execute_result"
    }
   ],
   "source": [
    "data_q9.head()"
   ]
  },
  {
   "cell_type": "code",
   "execution_count": 20,
   "id": "292ca5fc",
   "metadata": {},
   "outputs": [
    {
     "name": "stdout",
     "output_type": "stream",
     "text": [
      "Skewness of speed:  -0.12\n",
      "Skewness of distance 0.81\n",
      "Kurtosis of speed:  -0.51\n",
      "Kurtosis of distance 0.41\n"
     ]
    }
   ],
   "source": [
    "from scipy import stats as st\n",
    "import numpy as np\n",
    "print('Skewness of speed: ',np.round(st.skew(data_q9['speed'], bias=False),2))\n",
    "print('Skewness of distance' ,np.round(st.skew(data_q9['dist'], bias=False),2))\n",
    "print('Kurtosis of speed: ',np.round(st.kurtosis(data_q9['speed'], bias=False),2))\n",
    "print('Kurtosis of distance' ,np.round(st.kurtosis(data_q9['dist'], bias=False),2))"
   ]
  },
  {
   "cell_type": "markdown",
   "id": "0c4d0f04",
   "metadata": {},
   "source": [
    "### Q9_b.csv"
   ]
  },
  {
   "cell_type": "code",
   "execution_count": 6,
   "id": "731191c4",
   "metadata": {},
   "outputs": [],
   "source": [
    "data_q9_b = pd.read_csv('Q9_b.csv', index_col = 0)"
   ]
  },
  {
   "cell_type": "code",
   "execution_count": 7,
   "id": "83db918b",
   "metadata": {},
   "outputs": [
    {
     "data": {
      "text/html": [
       "<div>\n",
       "<style scoped>\n",
       "    .dataframe tbody tr th:only-of-type {\n",
       "        vertical-align: middle;\n",
       "    }\n",
       "\n",
       "    .dataframe tbody tr th {\n",
       "        vertical-align: top;\n",
       "    }\n",
       "\n",
       "    .dataframe thead th {\n",
       "        text-align: right;\n",
       "    }\n",
       "</style>\n",
       "<table border=\"1\" class=\"dataframe\">\n",
       "  <thead>\n",
       "    <tr style=\"text-align: right;\">\n",
       "      <th></th>\n",
       "      <th>SP</th>\n",
       "      <th>WT</th>\n",
       "    </tr>\n",
       "  </thead>\n",
       "  <tbody>\n",
       "    <tr>\n",
       "      <th>1</th>\n",
       "      <td>104.185353</td>\n",
       "      <td>28.762059</td>\n",
       "    </tr>\n",
       "    <tr>\n",
       "      <th>2</th>\n",
       "      <td>105.461264</td>\n",
       "      <td>30.466833</td>\n",
       "    </tr>\n",
       "    <tr>\n",
       "      <th>3</th>\n",
       "      <td>105.461264</td>\n",
       "      <td>30.193597</td>\n",
       "    </tr>\n",
       "    <tr>\n",
       "      <th>4</th>\n",
       "      <td>113.461264</td>\n",
       "      <td>30.632114</td>\n",
       "    </tr>\n",
       "    <tr>\n",
       "      <th>5</th>\n",
       "      <td>104.461264</td>\n",
       "      <td>29.889149</td>\n",
       "    </tr>\n",
       "  </tbody>\n",
       "</table>\n",
       "</div>"
      ],
      "text/plain": [
       "           SP         WT\n",
       "1  104.185353  28.762059\n",
       "2  105.461264  30.466833\n",
       "3  105.461264  30.193597\n",
       "4  113.461264  30.632114\n",
       "5  104.461264  29.889149"
      ]
     },
     "execution_count": 7,
     "metadata": {},
     "output_type": "execute_result"
    }
   ],
   "source": [
    "data_q9_b.head()"
   ]
  },
  {
   "cell_type": "code",
   "execution_count": 8,
   "id": "854160d9",
   "metadata": {},
   "outputs": [
    {
     "name": "stdout",
     "output_type": "stream",
     "text": [
      "Skewness of SP:  1.61\n",
      "Skewness of WT -0.61\n",
      "Kurtosis of SP:  2.98\n",
      "Kurtosis of WT 0.95\n"
     ]
    }
   ],
   "source": [
    "from scipy import stats as st\n",
    "import numpy as np\n",
    "print('Skewness of SP: ',np.round(st.skew(data_q9_b['SP'], bias=False),2))\n",
    "print('Skewness of WT' ,np.round(st.skew(data_q9_b['WT'], bias=False),2))\n",
    "print('Kurtosis of SP: ',np.round(st.kurtosis(data_q9_b['SP'], bias=False),2))\n",
    "print('Kurtosis of WT' ,np.round(st.kurtosis(data_q9_b['WT'], bias=False),2))"
   ]
  },
  {
   "cell_type": "markdown",
   "id": "575add2c",
   "metadata": {},
   "source": [
    "### Q11 | By using scipy.stats library"
   ]
  },
  {
   "cell_type": "code",
   "execution_count": 25,
   "id": "57700047",
   "metadata": {},
   "outputs": [
    {
     "name": "stdout",
     "output_type": "stream",
     "text": [
      "Confidence Interval for 94% confidence:  [198.74 201.26]\n",
      "Confidence Interval for 96% confidence:  [198.62 201.38]\n",
      "Confidence Interval for 98% confidence:  [198.44 201.56]\n"
     ]
    }
   ],
   "source": [
    "from scipy import stats\n",
    "sample_mean = 200\n",
    "sample_sd = 30 \n",
    "print('Confidence Interval for 94% confidence: ', np.round(stats.norm.interval(.94, sample_mean, sample_sd/np.sqrt(2000)),2))\n",
    "print('Confidence Interval for 96% confidence: ', np.round(stats.norm.interval(.96, sample_mean, sample_sd/np.sqrt(2000)),2))\n",
    "print('Confidence Interval for 98% confidence: ', np.round(stats.norm.interval(.98, sample_mean, sample_sd/np.sqrt(2000)),2))"
   ]
  },
  {
   "cell_type": "markdown",
   "id": "9e1bcbde",
   "metadata": {},
   "source": [
    "### Q11 | By using CI Formula"
   ]
  },
  {
   "cell_type": "code",
   "execution_count": 39,
   "id": "799a81e3",
   "metadata": {},
   "outputs": [
    {
     "name": "stdout",
     "output_type": "stream",
     "text": [
      "z-value:  1.88\n",
      "Cross-checked this value from z-table as well\n",
      "CI for 94%:  [198.74, 201.26]\n",
      "z-value:  2.05\n",
      "Cross-checked this value from z-table as well\n",
      "CI for 96%:  [198.62, 201.38]\n",
      "z-value:  2.33\n",
      "Cross-checked this value from z-table as well\n",
      "CI for 98%:  [198.44, 201.56]\n"
     ]
    }
   ],
   "source": [
    "# Confidence Level = 94%\n",
    "# significance level (alpha) = 1-.94 = .06 (Area in both the tails)\n",
    "# area in one tail (alpha/2) = .03\n",
    "# Since z-table and norm.ppf/norm.cdf gives the area to the left of the curve\n",
    "# to calculate critical score (z-score), we use point function ppf and hence will pass the area to the left which is (1-.03) = .97\n",
    "\n",
    "def CI(mean, deviation, sample_count, conf_lev):\n",
    "    alpha_1tail = (1-(conf_lev/100))/2\n",
    "    left_area = 1-alpha_1tail\n",
    "    z = np.round(stats.norm.ppf(left_area),2)\n",
    "    print('z-value: ',z)\n",
    "    print('Cross-checked this value from z-table as well')\n",
    "    error = sample_sd/np.sqrt(2000)\n",
    "    CI_range = [np.round(sample_mean-z*error,2), np.round(sample_mean+z*error,2)]\n",
    "    return CI_range\n",
    "    \n",
    "CI_arr = [94,96,98]\n",
    "sample_mean = 200\n",
    "sample_sd = 30 \n",
    "sample_count = 2000\n",
    "for i in CI_arr:\n",
    "    CIrange = CI(sample_mean, sample_sd, sample_count, i)\n",
    "    print(f'CI for {i}%: ', CIrange)\n"
   ]
  },
  {
   "cell_type": "markdown",
   "id": "9cf09773",
   "metadata": {},
   "source": [
    "### Q20 | Cars.csv"
   ]
  },
  {
   "cell_type": "code",
   "execution_count": 45,
   "id": "89b5c135",
   "metadata": {},
   "outputs": [],
   "source": [
    "data_cars = pd.read_csv('D:\\Shubhi\\DataScience\\ExcelR\\Assignments\\Basic Stastistics_Level1\\Cars.csv')"
   ]
  },
  {
   "cell_type": "code",
   "execution_count": 46,
   "id": "18723255",
   "metadata": {},
   "outputs": [
    {
     "data": {
      "text/html": [
       "<div>\n",
       "<style scoped>\n",
       "    .dataframe tbody tr th:only-of-type {\n",
       "        vertical-align: middle;\n",
       "    }\n",
       "\n",
       "    .dataframe tbody tr th {\n",
       "        vertical-align: top;\n",
       "    }\n",
       "\n",
       "    .dataframe thead th {\n",
       "        text-align: right;\n",
       "    }\n",
       "</style>\n",
       "<table border=\"1\" class=\"dataframe\">\n",
       "  <thead>\n",
       "    <tr style=\"text-align: right;\">\n",
       "      <th></th>\n",
       "      <th>HP</th>\n",
       "      <th>MPG</th>\n",
       "      <th>VOL</th>\n",
       "      <th>SP</th>\n",
       "      <th>WT</th>\n",
       "    </tr>\n",
       "  </thead>\n",
       "  <tbody>\n",
       "    <tr>\n",
       "      <th>0</th>\n",
       "      <td>49</td>\n",
       "      <td>53.700681</td>\n",
       "      <td>89</td>\n",
       "      <td>104.185353</td>\n",
       "      <td>28.762059</td>\n",
       "    </tr>\n",
       "    <tr>\n",
       "      <th>1</th>\n",
       "      <td>55</td>\n",
       "      <td>50.013401</td>\n",
       "      <td>92</td>\n",
       "      <td>105.461264</td>\n",
       "      <td>30.466833</td>\n",
       "    </tr>\n",
       "    <tr>\n",
       "      <th>2</th>\n",
       "      <td>55</td>\n",
       "      <td>50.013401</td>\n",
       "      <td>92</td>\n",
       "      <td>105.461264</td>\n",
       "      <td>30.193597</td>\n",
       "    </tr>\n",
       "    <tr>\n",
       "      <th>3</th>\n",
       "      <td>70</td>\n",
       "      <td>45.696322</td>\n",
       "      <td>92</td>\n",
       "      <td>113.461264</td>\n",
       "      <td>30.632114</td>\n",
       "    </tr>\n",
       "    <tr>\n",
       "      <th>4</th>\n",
       "      <td>53</td>\n",
       "      <td>50.504232</td>\n",
       "      <td>92</td>\n",
       "      <td>104.461264</td>\n",
       "      <td>29.889149</td>\n",
       "    </tr>\n",
       "  </tbody>\n",
       "</table>\n",
       "</div>"
      ],
      "text/plain": [
       "   HP        MPG  VOL          SP         WT\n",
       "0  49  53.700681   89  104.185353  28.762059\n",
       "1  55  50.013401   92  105.461264  30.466833\n",
       "2  55  50.013401   92  105.461264  30.193597\n",
       "3  70  45.696322   92  113.461264  30.632114\n",
       "4  53  50.504232   92  104.461264  29.889149"
      ]
     },
     "execution_count": 46,
     "metadata": {},
     "output_type": "execute_result"
    }
   ],
   "source": [
    "data_cars.head()"
   ]
  },
  {
   "cell_type": "code",
   "execution_count": 47,
   "id": "0281a3d8",
   "metadata": {},
   "outputs": [
    {
     "name": "stdout",
     "output_type": "stream",
     "text": [
      "<class 'pandas.core.frame.DataFrame'>\n",
      "RangeIndex: 81 entries, 0 to 80\n",
      "Data columns (total 5 columns):\n",
      " #   Column  Non-Null Count  Dtype  \n",
      "---  ------  --------------  -----  \n",
      " 0   HP      81 non-null     int64  \n",
      " 1   MPG     81 non-null     float64\n",
      " 2   VOL     81 non-null     int64  \n",
      " 3   SP      81 non-null     float64\n",
      " 4   WT      81 non-null     float64\n",
      "dtypes: float64(3), int64(2)\n",
      "memory usage: 3.3 KB\n"
     ]
    }
   ],
   "source": [
    "data_cars.info()"
   ]
  },
  {
   "cell_type": "code",
   "execution_count": 59,
   "id": "f9caed95",
   "metadata": {},
   "outputs": [
    {
     "name": "stdout",
     "output_type": "stream",
     "text": [
      "Probability of cars having MPG > 38:  0.35\n",
      "Probability of cars having MPG < 40:  0.73\n",
      "Probability of cars having 20 < MPG < 50:  0.9\n"
     ]
    }
   ],
   "source": [
    "mean = np.round(data_cars['MPG'].mean(),2)\n",
    "std = np.round(data_cars['MPG'].std(),2)\n",
    "print('Probability of cars having MPG > 38: ', np.round(1- stats.norm.cdf(38, mean, std),2))\n",
    "print('Probability of cars having MPG < 40: ', np.round(stats.norm.cdf(40, mean, std),2))\n",
    "print('Probability of cars having 20 < MPG < 50: ', np.round(stats.norm.cdf(50, mean, std) - stats.norm.cdf(20, mean, std),2))"
   ]
  },
  {
   "cell_type": "code",
   "execution_count": 74,
   "id": "e8a11c7a",
   "metadata": {},
   "outputs": [
    {
     "name": "stderr",
     "output_type": "stream",
     "text": [
      "C:\\Users\\Ridaan\\anaconda3\\lib\\site-packages\\seaborn\\distributions.py:2619: FutureWarning: `distplot` is a deprecated function and will be removed in a future version. Please adapt your code to use either `displot` (a figure-level function with similar flexibility) or `histplot` (an axes-level function for histograms).\n",
      "  warnings.warn(msg, FutureWarning)\n"
     ]
    },
    {
     "data": {
      "text/plain": [
       "<AxesSubplot:xlabel='MPG'>"
      ]
     },
     "execution_count": 74,
     "metadata": {},
     "output_type": "execute_result"
    },
    {
     "data": {
      "image/png": "[encoded data removed]",
      "text/plain": [
       "<Figure size 1080x360 with 2 Axes>"
      ]
     },
     "metadata": {
      "needs_background": "light"
     },
     "output_type": "display_data"
    }
   ],
   "source": [
    "# to visualize the probability through distribution plot\n",
    "import seaborn as sns\n",
    "import matplotlib.pyplot as plt\n",
    "\n",
    "fig,axes=plt.subplots(nrows=1,ncols=2, figsize=(15,5))\n",
    "\n",
    "# distplot and violin plot\n",
    "sns.distplot(data_cars['MPG'], ax=axes[0] )\n",
    "sns.violinplot(x='MPG', data=data_cars, ax=axes[1])\n",
    "\n"
   ]
  },
  {
   "cell_type": "markdown",
   "id": "fffafd5a",
   "metadata": {},
   "source": [
    "### Q21 a)"
   ]
  },
  {
   "cell_type": "code",
   "execution_count": 76,
   "id": "6d24fb01",
   "metadata": {},
   "outputs": [
    {
     "data": {
      "text/plain": [
       "<AxesSubplot:xlabel='MPG'>"
      ]
     },
     "execution_count": 76,
     "metadata": {},
     "output_type": "execute_result"
    },
    {
     "data": {
      "image/png": "[encoded data removed]",
      "text/plain": [
       "<Figure size 432x288 with 1 Axes>"
      ]
     },
     "metadata": {
      "needs_background": "light"
     },
     "output_type": "display_data"
    }
   ],
   "source": [
    "sns.boxplot(x='MPG', data=data_cars)\n"
   ]
  },
  {
   "cell_type": "code",
   "execution_count": 79,
   "id": "c66d77a5",
   "metadata": {},
   "outputs": [
    {
     "data": {
      "text/plain": [
       "count    81.000000\n",
       "mean     34.422076\n",
       "std       9.131445\n",
       "min      12.101263\n",
       "25%      27.856252\n",
       "50%      35.152727\n",
       "75%      39.531633\n",
       "max      53.700681\n",
       "Name: MPG, dtype: float64"
      ]
     },
     "execution_count": 79,
     "metadata": {},
     "output_type": "execute_result"
    }
   ],
   "source": [
    "data_cars['MPG'].describe()"
   ]
  },
  {
   "cell_type": "code",
   "execution_count": 83,
   "id": "eb0dbc38",
   "metadata": {},
   "outputs": [
    {
     "name": "stdout",
     "output_type": "stream",
     "text": [
      "Kurtosis:  -0.61\n"
     ]
    }
   ],
   "source": [
    "print('Kurtosis: ', np.round(data_cars['MPG'].kurt(),2))"
   ]
  },
  {
   "cell_type": "code",
   "execution_count": 82,
   "id": "59854bfd",
   "metadata": {},
   "outputs": [
    {
     "name": "stdout",
     "output_type": "stream",
     "text": [
      "Skewness: -0.18\n"
     ]
    }
   ],
   "source": [
    "print('Skewness:', np.round(data_cars['MPG'].skew(),2))"
   ]
  },
  {
   "cell_type": "markdown",
   "id": "4578cd95",
   "metadata": {},
   "source": [
    "### Q21 b)"
   ]
  },
  {
   "cell_type": "code",
   "execution_count": 85,
   "id": "bd17cf20",
   "metadata": {},
   "outputs": [],
   "source": [
    "wc_at = pd.read_csv('D:\\Shubhi\\DataScience\\ExcelR\\Assignments\\Basic Stastistics_Level1\\wc-at.csv')"
   ]
  },
  {
   "cell_type": "code",
   "execution_count": 86,
   "id": "4f569eed",
   "metadata": {},
   "outputs": [
    {
     "name": "stdout",
     "output_type": "stream",
     "text": [
      "<class 'pandas.core.frame.DataFrame'>\n",
      "RangeIndex: 109 entries, 0 to 108\n",
      "Data columns (total 2 columns):\n",
      " #   Column  Non-Null Count  Dtype  \n",
      "---  ------  --------------  -----  \n",
      " 0   Waist   109 non-null    float64\n",
      " 1   AT      109 non-null    float64\n",
      "dtypes: float64(2)\n",
      "memory usage: 1.8 KB\n"
     ]
    }
   ],
   "source": [
    "wc_at.info()"
   ]
  },
  {
   "cell_type": "code",
   "execution_count": 87,
   "id": "c1c9e10c",
   "metadata": {},
   "outputs": [
    {
     "data": {
      "text/html": [
       "<div>\n",
       "<style scoped>\n",
       "    .dataframe tbody tr th:only-of-type {\n",
       "        vertical-align: middle;\n",
       "    }\n",
       "\n",
       "    .dataframe tbody tr th {\n",
       "        vertical-align: top;\n",
       "    }\n",
       "\n",
       "    .dataframe thead th {\n",
       "        text-align: right;\n",
       "    }\n",
       "</style>\n",
       "<table border=\"1\" class=\"dataframe\">\n",
       "  <thead>\n",
       "    <tr style=\"text-align: right;\">\n",
       "      <th></th>\n",
       "      <th>Waist</th>\n",
       "      <th>AT</th>\n",
       "    </tr>\n",
       "  </thead>\n",
       "  <tbody>\n",
       "    <tr>\n",
       "      <th>count</th>\n",
       "      <td>109.000000</td>\n",
       "      <td>109.000000</td>\n",
       "    </tr>\n",
       "    <tr>\n",
       "      <th>mean</th>\n",
       "      <td>91.901835</td>\n",
       "      <td>101.894037</td>\n",
       "    </tr>\n",
       "    <tr>\n",
       "      <th>std</th>\n",
       "      <td>13.559116</td>\n",
       "      <td>57.294763</td>\n",
       "    </tr>\n",
       "    <tr>\n",
       "      <th>min</th>\n",
       "      <td>63.500000</td>\n",
       "      <td>11.440000</td>\n",
       "    </tr>\n",
       "    <tr>\n",
       "      <th>25%</th>\n",
       "      <td>80.000000</td>\n",
       "      <td>50.880000</td>\n",
       "    </tr>\n",
       "    <tr>\n",
       "      <th>50%</th>\n",
       "      <td>90.800000</td>\n",
       "      <td>96.540000</td>\n",
       "    </tr>\n",
       "    <tr>\n",
       "      <th>75%</th>\n",
       "      <td>104.000000</td>\n",
       "      <td>137.000000</td>\n",
       "    </tr>\n",
       "    <tr>\n",
       "      <th>max</th>\n",
       "      <td>121.000000</td>\n",
       "      <td>253.000000</td>\n",
       "    </tr>\n",
       "  </tbody>\n",
       "</table>\n",
       "</div>"
      ],
      "text/plain": [
       "            Waist          AT\n",
       "count  109.000000  109.000000\n",
       "mean    91.901835  101.894037\n",
       "std     13.559116   57.294763\n",
       "min     63.500000   11.440000\n",
       "25%     80.000000   50.880000\n",
       "50%     90.800000   96.540000\n",
       "75%    104.000000  137.000000\n",
       "max    121.000000  253.000000"
      ]
     },
     "execution_count": 87,
     "metadata": {},
     "output_type": "execute_result"
    }
   ],
   "source": [
    "wc_at.describe()"
   ]
  },
  {
   "cell_type": "code",
   "execution_count": 88,
   "id": "298a40d3",
   "metadata": {},
   "outputs": [
    {
     "name": "stderr",
     "output_type": "stream",
     "text": [
      "C:\\Users\\Ridaan\\anaconda3\\lib\\site-packages\\seaborn\\_decorators.py:36: FutureWarning: Pass the following variable as a keyword arg: x. From version 0.12, the only valid positional argument will be `data`, and passing other arguments without an explicit keyword will result in an error or misinterpretation.\n",
      "  warnings.warn(\n",
      "C:\\Users\\Ridaan\\anaconda3\\lib\\site-packages\\seaborn\\_decorators.py:36: FutureWarning: Pass the following variable as a keyword arg: x. From version 0.12, the only valid positional argument will be `data`, and passing other arguments without an explicit keyword will result in an error or misinterpretation.\n",
      "  warnings.warn(\n"
     ]
    },
    {
     "data": {
      "text/plain": [
       "<AxesSubplot:xlabel='AT'>"
      ]
     },
     "execution_count": 88,
     "metadata": {},
     "output_type": "execute_result"
    },
    {
     "data": {
      "image/png": "[encoded data removed]",
      "text/plain": [
       "<Figure size 1080x360 with 2 Axes>"
      ]
     },
     "metadata": {
      "needs_background": "light"
     },
     "output_type": "display_data"
    }
   ],
   "source": [
    "fig1,axes=plt.subplots(nrows=1,ncols=2, figsize=(15,5))\n",
    "\n",
    "sns.boxplot(wc_at['Waist'], ax=axes[0])\n",
    "sns.boxplot(wc_at['AT'], ax=axes[1])"
   ]
  },
  {
   "cell_type": "markdown",
   "id": "73f19f5d",
   "metadata": {},
   "source": [
    "### Q22) Z-scores "
   ]
  },
  {
   "cell_type": "code",
   "execution_count": 94,
   "id": "01fbca27",
   "metadata": {},
   "outputs": [
    {
     "name": "stdout",
     "output_type": "stream",
     "text": [
      "area to look in z-table:  0.95\n",
      "Z-score for 90% CI:  1.64\n",
      "area to look in z-table:  0.97\n",
      "Z-score for 94% CI:  1.88\n",
      "area to look in z-table:  0.8\n",
      "Z-score for 60% CI:  0.84\n"
     ]
    }
   ],
   "source": [
    "def z_score(conf):\n",
    "    alpha = 1-conf/100\n",
    "    area_1tail = alpha/2\n",
    "    area_left = 1-area_1tail\n",
    "    print('area to look in z-table: ', area_left)\n",
    "    return np.round(stats.norm.ppf(area_left),2)\n",
    "\n",
    "print('Z-score for 90% CI: ', z_score(90))\n",
    "print('Z-score for 94% CI: ', z_score(94))\n",
    "print('Z-score for 60% CI: ', z_score(60))"
   ]
  },
  {
   "cell_type": "code",
   "execution_count": 95,
   "id": "dcd0bfb0",
   "metadata": {
    "scrolled": true
   },
   "outputs": [
    {
     "name": "stdout",
     "output_type": "stream",
     "text": [
      "area to look in z-table:  0.975\n",
      "t-score for 95% CI:  2.06\n",
      "area to look in z-table:  0.98\n",
      "t-score for 96% CI:  2.17\n",
      "area to look in z-table:  0.995\n",
      "t-score for 99% CI:  2.8\n"
     ]
    }
   ],
   "source": [
    "def t_score(conf):\n",
    "    df = 25-1\n",
    "    alpha = 1-conf/100 #2-tail\n",
    "    area_1tail = alpha/2 #1-tail\n",
    "    area_left = 1-area_1tail #cum-probability\n",
    "    # refer | https://www.sjsu.edu/faculty/gerstman/StatPrimer/t-table.pdf\n",
    "    print('area to look in z-table: ', area_left)\n",
    "    return np.round(stats.t.ppf(area_left,df),2)\n",
    "\n",
    "# all three values are also validated through online t-value calculator\n",
    "# https://goodcalculators.com/student-t-value-calculator/\n",
    "print('t-score for 95% CI: ', t_score(95)) # this is verified in above t-table reference table\n",
    "print('t-score for 96% CI: ', t_score(96))\n",
    "print('t-score for 99% CI: ', t_score(99)) # this is also verified in t-table"
   ]
  },
  {
   "cell_type": "markdown",
   "id": "7c25631b",
   "metadata": {},
   "source": [
    "### Q24 | probability of bulbs"
   ]
  },
  {
   "cell_type": "code",
   "execution_count": 102,
   "id": "2097fa2a",
   "metadata": {},
   "outputs": [
    {
     "name": "stdout",
     "output_type": "stream",
     "text": [
      "-0.47\n"
     ]
    }
   ],
   "source": [
    "t = np.round((260-270)/(90/np.sqrt(18)),2)\n",
    "print(t)"
   ]
  },
  {
   "cell_type": "code",
   "execution_count": 105,
   "id": "8524cb3c",
   "metadata": {},
   "outputs": [
    {
     "name": "stdout",
     "output_type": "stream",
     "text": [
      "probability that mean is less than 260 days:  0.32\n"
     ]
    }
   ],
   "source": [
    "print('probability that mean is less than 260 days: ', np.round(stats.t.cdf(t, 17),2))"
   ]
  }
 ],
 "metadata": {
  "kernelspec": {
   "display_name": "Python 3 (ipykernel)",
   "language": "python",
   "name": "python3"
  },
  "language_info": {
   "codemirror_mode": {
    "name": "ipython",
    "version": 3
   },
   "file_extension": ".py",
   "mimetype": "text/x-python",
   "name": "python",
   "nbconvert_exporter": "python",
   "pygments_lexer": "ipython3",
   "version": "3.9.12"
  }
 },
 "nbformat": 4,
 "nbformat_minor": 5
}

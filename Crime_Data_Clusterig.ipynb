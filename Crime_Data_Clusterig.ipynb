{
 "cells": [
  {
   "cell_type": "markdown",
   "id": "b44f5014",
   "metadata": {},
   "source": [
    "### Hierarchical Clustering | Agglomerative Clustering"
   ]
  },
  {
   "cell_type": "code",
   "execution_count": 1,
   "id": "16fa741f",
   "metadata": {},
   "outputs": [],
   "source": [
    "import pandas as pd"
   ]
  },
  {
   "cell_type": "code",
   "execution_count": 2,
   "id": "8223f6d8",
   "metadata": {},
   "outputs": [
    {
     "data": {
      "text/html": [
       "<div>\n",
       "<style scoped>\n",
       "    .dataframe tbody tr th:only-of-type {\n",
       "        vertical-align: middle;\n",
       "    }\n",
       "\n",
       "    .dataframe tbody tr th {\n",
       "        vertical-align: top;\n",
       "    }\n",
       "\n",
       "    .dataframe thead th {\n",
       "        text-align: right;\n",
       "    }\n",
       "</style>\n",
       "<table border=\"1\" class=\"dataframe\">\n",
       "  <thead>\n",
       "    <tr style=\"text-align: right;\">\n",
       "      <th></th>\n",
       "      <th>Murder</th>\n",
       "      <th>Assault</th>\n",
       "      <th>UrbanPop</th>\n",
       "      <th>Rape</th>\n",
       "    </tr>\n",
       "  </thead>\n",
       "  <tbody>\n",
       "    <tr>\n",
       "      <th>Alabama</th>\n",
       "      <td>13.2</td>\n",
       "      <td>236</td>\n",
       "      <td>58</td>\n",
       "      <td>21.2</td>\n",
       "    </tr>\n",
       "    <tr>\n",
       "      <th>Alaska</th>\n",
       "      <td>10.0</td>\n",
       "      <td>263</td>\n",
       "      <td>48</td>\n",
       "      <td>44.5</td>\n",
       "    </tr>\n",
       "    <tr>\n",
       "      <th>Arizona</th>\n",
       "      <td>8.1</td>\n",
       "      <td>294</td>\n",
       "      <td>80</td>\n",
       "      <td>31.0</td>\n",
       "    </tr>\n",
       "    <tr>\n",
       "      <th>Arkansas</th>\n",
       "      <td>8.8</td>\n",
       "      <td>190</td>\n",
       "      <td>50</td>\n",
       "      <td>19.5</td>\n",
       "    </tr>\n",
       "    <tr>\n",
       "      <th>California</th>\n",
       "      <td>9.0</td>\n",
       "      <td>276</td>\n",
       "      <td>91</td>\n",
       "      <td>40.6</td>\n",
       "    </tr>\n",
       "  </tbody>\n",
       "</table>\n",
       "</div>"
      ],
      "text/plain": [
       "            Murder  Assault  UrbanPop  Rape\n",
       "Alabama       13.2      236        58  21.2\n",
       "Alaska        10.0      263        48  44.5\n",
       "Arizona        8.1      294        80  31.0\n",
       "Arkansas       8.8      190        50  19.5\n",
       "California     9.0      276        91  40.6"
      ]
     },
     "execution_count": 2,
     "metadata": {},
     "output_type": "execute_result"
    }
   ],
   "source": [
    "# Reading the data\n",
    "data = pd.read_csv('crime_data.csv', index_col=0)\n",
    "data.head()"
   ]
  },
  {
   "cell_type": "code",
   "execution_count": 3,
   "id": "88bf04d2",
   "metadata": {},
   "outputs": [
    {
     "name": "stdout",
     "output_type": "stream",
     "text": [
      "<class 'pandas.core.frame.DataFrame'>\n",
      "Index: 50 entries, Alabama to Wyoming\n",
      "Data columns (total 4 columns):\n",
      " #   Column    Non-Null Count  Dtype  \n",
      "---  ------    --------------  -----  \n",
      " 0   Murder    50 non-null     float64\n",
      " 1   Assault   50 non-null     int64  \n",
      " 2   UrbanPop  50 non-null     int64  \n",
      " 3   Rape      50 non-null     float64\n",
      "dtypes: float64(2), int64(2)\n",
      "memory usage: 2.0+ KB\n"
     ]
    }
   ],
   "source": [
    "data.info()"
   ]
  },
  {
   "cell_type": "markdown",
   "id": "950488d9",
   "metadata": {},
   "source": [
    "### Scaling the data"
   ]
  },
  {
   "cell_type": "code",
   "execution_count": 4,
   "id": "6a05f094",
   "metadata": {},
   "outputs": [
    {
     "data": {
      "text/html": [
       "<div>\n",
       "<style scoped>\n",
       "    .dataframe tbody tr th:only-of-type {\n",
       "        vertical-align: middle;\n",
       "    }\n",
       "\n",
       "    .dataframe tbody tr th {\n",
       "        vertical-align: top;\n",
       "    }\n",
       "\n",
       "    .dataframe thead th {\n",
       "        text-align: right;\n",
       "    }\n",
       "</style>\n",
       "<table border=\"1\" class=\"dataframe\">\n",
       "  <thead>\n",
       "    <tr style=\"text-align: right;\">\n",
       "      <th></th>\n",
       "      <th>Murder</th>\n",
       "      <th>Assault</th>\n",
       "      <th>UrbanPop</th>\n",
       "      <th>Rape</th>\n",
       "    </tr>\n",
       "  </thead>\n",
       "  <tbody>\n",
       "    <tr>\n",
       "      <th>Alabama</th>\n",
       "      <td>1.255179</td>\n",
       "      <td>0.790787</td>\n",
       "      <td>-0.526195</td>\n",
       "      <td>-0.003451</td>\n",
       "    </tr>\n",
       "    <tr>\n",
       "      <th>Alaska</th>\n",
       "      <td>0.513019</td>\n",
       "      <td>1.118060</td>\n",
       "      <td>-1.224067</td>\n",
       "      <td>2.509424</td>\n",
       "    </tr>\n",
       "    <tr>\n",
       "      <th>Arizona</th>\n",
       "      <td>0.072361</td>\n",
       "      <td>1.493817</td>\n",
       "      <td>1.009122</td>\n",
       "      <td>1.053466</td>\n",
       "    </tr>\n",
       "    <tr>\n",
       "      <th>Arkansas</th>\n",
       "      <td>0.234708</td>\n",
       "      <td>0.233212</td>\n",
       "      <td>-1.084492</td>\n",
       "      <td>-0.186794</td>\n",
       "    </tr>\n",
       "    <tr>\n",
       "      <th>California</th>\n",
       "      <td>0.281093</td>\n",
       "      <td>1.275635</td>\n",
       "      <td>1.776781</td>\n",
       "      <td>2.088814</td>\n",
       "    </tr>\n",
       "  </tbody>\n",
       "</table>\n",
       "</div>"
      ],
      "text/plain": [
       "              Murder   Assault  UrbanPop      Rape\n",
       "Alabama     1.255179  0.790787 -0.526195 -0.003451\n",
       "Alaska      0.513019  1.118060 -1.224067  2.509424\n",
       "Arizona     0.072361  1.493817  1.009122  1.053466\n",
       "Arkansas    0.234708  0.233212 -1.084492 -0.186794\n",
       "California  0.281093  1.275635  1.776781  2.088814"
      ]
     },
     "execution_count": 4,
     "metadata": {},
     "output_type": "execute_result"
    }
   ],
   "source": [
    "from sklearn.preprocessing import StandardScaler\n",
    "Scaler = StandardScaler()\n",
    "scaled_data = pd.DataFrame(Scaler.fit_transform(data), index = data.index, columns=data.columns )\n",
    "scaled_data[:5]"
   ]
  },
  {
   "cell_type": "markdown",
   "id": "ab80abad",
   "metadata": {},
   "source": [
    "### Building the model "
   ]
  },
  {
   "cell_type": "code",
   "execution_count": 5,
   "id": "625d5e2a",
   "metadata": {},
   "outputs": [],
   "source": [
    "from sklearn.cluster import AgglomerativeClustering\n",
    "from sklearn.metrics import silhouette_score"
   ]
  },
  {
   "cell_type": "code",
   "execution_count": 6,
   "id": "a036686e",
   "metadata": {},
   "outputs": [
    {
     "data": {
      "text/plain": [
       "[(2, 0.23455598753159795),\n",
       " (3, 0.14582343625170263),\n",
       " (4, 0.174058063042673),\n",
       " (5, 0.21127138005172738),\n",
       " (6, 0.15038419906489478),\n",
       " (7, 0.14569917236367297),\n",
       " (8, -0.031850582164404256),\n",
       " (9, 0.119031054793955),\n",
       " (10, 0.13947806156459552)]"
      ]
     },
     "execution_count": 6,
     "metadata": {},
     "output_type": "execute_result"
    }
   ],
   "source": [
    "hier_model_scores = []\n",
    "for i in range(2,11):\n",
    "    model = AgglomerativeClustering(n_clusters=i, affinity='euclidean', linkage='single')\n",
    "    model.fit(scaled_data)\n",
    "    score = silhouette_score(scaled_data, model.labels_)\n",
    "    hier_model_scores.append((i, score))\n",
    "    \n",
    "hier_model_scores"
   ]
  },
  {
   "cell_type": "markdown",
   "id": "44e7b080",
   "metadata": {},
   "source": [
    "### Hence will go with clusters = 2 as an optimum no. of clusters as Silhouette Score is maximum for this value"
   ]
  },
  {
   "cell_type": "code",
   "execution_count": 7,
   "id": "846befac",
   "metadata": {},
   "outputs": [
    {
     "data": {
      "text/plain": [
       "AgglomerativeClustering(linkage='single')"
      ]
     },
     "execution_count": 7,
     "metadata": {},
     "output_type": "execute_result"
    }
   ],
   "source": [
    "model_hierarchical = AgglomerativeClustering(n_clusters = 2, affinity='euclidean', linkage='single')\n",
    "model_hierarchical"
   ]
  },
  {
   "cell_type": "code",
   "execution_count": 8,
   "id": "ebbda21c",
   "metadata": {},
   "outputs": [
    {
     "data": {
      "text/plain": [
       "AgglomerativeClustering(linkage='single')"
      ]
     },
     "execution_count": 8,
     "metadata": {},
     "output_type": "execute_result"
    }
   ],
   "source": [
    "model_hierarchical.fit(scaled_data)"
   ]
  },
  {
   "cell_type": "code",
   "execution_count": 9,
   "id": "7dff0c09",
   "metadata": {},
   "outputs": [
    {
     "data": {
      "text/plain": [
       "array([0, 1, 0, 0, 0, 0, 0, 0, 0, 0, 0, 0, 0, 0, 0, 0, 0, 0, 0, 0, 0, 0,\n",
       "       0, 0, 0, 0, 0, 0, 0, 0, 0, 0, 0, 0, 0, 0, 0, 0, 0, 0, 0, 0, 0, 0,\n",
       "       0, 0, 0, 0, 0, 0], dtype=int64)"
      ]
     },
     "execution_count": 9,
     "metadata": {},
     "output_type": "execute_result"
    }
   ],
   "source": [
    "model_hierarchical.labels_"
   ]
  },
  {
   "cell_type": "code",
   "execution_count": 10,
   "id": "0d5fb84a",
   "metadata": {},
   "outputs": [
    {
     "data": {
      "text/html": [
       "<div>\n",
       "<style scoped>\n",
       "    .dataframe tbody tr th:only-of-type {\n",
       "        vertical-align: middle;\n",
       "    }\n",
       "\n",
       "    .dataframe tbody tr th {\n",
       "        vertical-align: top;\n",
       "    }\n",
       "\n",
       "    .dataframe thead th {\n",
       "        text-align: right;\n",
       "    }\n",
       "</style>\n",
       "<table border=\"1\" class=\"dataframe\">\n",
       "  <thead>\n",
       "    <tr style=\"text-align: right;\">\n",
       "      <th></th>\n",
       "      <th>Murder</th>\n",
       "      <th>Assault</th>\n",
       "      <th>UrbanPop</th>\n",
       "      <th>Rape</th>\n",
       "      <th>hierarchy_clusterId</th>\n",
       "    </tr>\n",
       "  </thead>\n",
       "  <tbody>\n",
       "    <tr>\n",
       "      <th>Alabama</th>\n",
       "      <td>13.2</td>\n",
       "      <td>236</td>\n",
       "      <td>58</td>\n",
       "      <td>21.2</td>\n",
       "      <td>0</td>\n",
       "    </tr>\n",
       "    <tr>\n",
       "      <th>Alaska</th>\n",
       "      <td>10.0</td>\n",
       "      <td>263</td>\n",
       "      <td>48</td>\n",
       "      <td>44.5</td>\n",
       "      <td>1</td>\n",
       "    </tr>\n",
       "    <tr>\n",
       "      <th>Arizona</th>\n",
       "      <td>8.1</td>\n",
       "      <td>294</td>\n",
       "      <td>80</td>\n",
       "      <td>31.0</td>\n",
       "      <td>0</td>\n",
       "    </tr>\n",
       "    <tr>\n",
       "      <th>Arkansas</th>\n",
       "      <td>8.8</td>\n",
       "      <td>190</td>\n",
       "      <td>50</td>\n",
       "      <td>19.5</td>\n",
       "      <td>0</td>\n",
       "    </tr>\n",
       "    <tr>\n",
       "      <th>California</th>\n",
       "      <td>9.0</td>\n",
       "      <td>276</td>\n",
       "      <td>91</td>\n",
       "      <td>40.6</td>\n",
       "      <td>0</td>\n",
       "    </tr>\n",
       "  </tbody>\n",
       "</table>\n",
       "</div>"
      ],
      "text/plain": [
       "            Murder  Assault  UrbanPop  Rape  hierarchy_clusterId\n",
       "Alabama       13.2      236        58  21.2                    0\n",
       "Alaska        10.0      263        48  44.5                    1\n",
       "Arizona        8.1      294        80  31.0                    0\n",
       "Arkansas       8.8      190        50  19.5                    0\n",
       "California     9.0      276        91  40.6                    0"
      ]
     },
     "execution_count": 10,
     "metadata": {},
     "output_type": "execute_result"
    }
   ],
   "source": [
    "data['hierarchy_clusterId'] = model_hierarchical.fit_predict(scaled_data)\n",
    "data.head()"
   ]
  },
  {
   "cell_type": "code",
   "execution_count": 11,
   "id": "09891a85",
   "metadata": {},
   "outputs": [
    {
     "data": {
      "text/html": [
       "<div>\n",
       "<style scoped>\n",
       "    .dataframe tbody tr th:only-of-type {\n",
       "        vertical-align: middle;\n",
       "    }\n",
       "\n",
       "    .dataframe tbody tr th {\n",
       "        vertical-align: top;\n",
       "    }\n",
       "\n",
       "    .dataframe thead th {\n",
       "        text-align: right;\n",
       "    }\n",
       "</style>\n",
       "<table border=\"1\" class=\"dataframe\">\n",
       "  <thead>\n",
       "    <tr style=\"text-align: right;\">\n",
       "      <th></th>\n",
       "      <th>Murder</th>\n",
       "      <th>Assault</th>\n",
       "      <th>UrbanPop</th>\n",
       "      <th>Rape</th>\n",
       "    </tr>\n",
       "    <tr>\n",
       "      <th>hierarchy_clusterId</th>\n",
       "      <th></th>\n",
       "      <th></th>\n",
       "      <th></th>\n",
       "      <th></th>\n",
       "    </tr>\n",
       "  </thead>\n",
       "  <tbody>\n",
       "    <tr>\n",
       "      <th>0</th>\n",
       "      <td>49</td>\n",
       "      <td>49</td>\n",
       "      <td>49</td>\n",
       "      <td>49</td>\n",
       "    </tr>\n",
       "    <tr>\n",
       "      <th>1</th>\n",
       "      <td>1</td>\n",
       "      <td>1</td>\n",
       "      <td>1</td>\n",
       "      <td>1</td>\n",
       "    </tr>\n",
       "  </tbody>\n",
       "</table>\n",
       "</div>"
      ],
      "text/plain": [
       "                     Murder  Assault  UrbanPop  Rape\n",
       "hierarchy_clusterId                                 \n",
       "0                        49       49        49    49\n",
       "1                         1        1         1     1"
      ]
     },
     "execution_count": 11,
     "metadata": {},
     "output_type": "execute_result"
    }
   ],
   "source": [
    "data.groupby(['hierarchy_clusterId']).count()"
   ]
  },
  {
   "cell_type": "code",
   "execution_count": 12,
   "id": "b473d4ae",
   "metadata": {},
   "outputs": [
    {
     "data": {
      "text/html": [
       "<div>\n",
       "<style scoped>\n",
       "    .dataframe tbody tr th:only-of-type {\n",
       "        vertical-align: middle;\n",
       "    }\n",
       "\n",
       "    .dataframe tbody tr th {\n",
       "        vertical-align: top;\n",
       "    }\n",
       "\n",
       "    .dataframe thead tr th {\n",
       "        text-align: left;\n",
       "    }\n",
       "\n",
       "    .dataframe thead tr:last-of-type th {\n",
       "        text-align: right;\n",
       "    }\n",
       "</style>\n",
       "<table border=\"1\" class=\"dataframe\">\n",
       "  <thead>\n",
       "    <tr>\n",
       "      <th></th>\n",
       "      <th colspan=\"3\" halign=\"left\">Murder</th>\n",
       "      <th colspan=\"3\" halign=\"left\">Assault</th>\n",
       "      <th colspan=\"3\" halign=\"left\">UrbanPop</th>\n",
       "      <th colspan=\"3\" halign=\"left\">Rape</th>\n",
       "    </tr>\n",
       "    <tr>\n",
       "      <th></th>\n",
       "      <th>mean</th>\n",
       "      <th>max</th>\n",
       "      <th>min</th>\n",
       "      <th>mean</th>\n",
       "      <th>max</th>\n",
       "      <th>min</th>\n",
       "      <th>mean</th>\n",
       "      <th>max</th>\n",
       "      <th>min</th>\n",
       "      <th>mean</th>\n",
       "      <th>max</th>\n",
       "      <th>min</th>\n",
       "    </tr>\n",
       "    <tr>\n",
       "      <th>hierarchy_clusterId</th>\n",
       "      <th></th>\n",
       "      <th></th>\n",
       "      <th></th>\n",
       "      <th></th>\n",
       "      <th></th>\n",
       "      <th></th>\n",
       "      <th></th>\n",
       "      <th></th>\n",
       "      <th></th>\n",
       "      <th></th>\n",
       "      <th></th>\n",
       "      <th></th>\n",
       "    </tr>\n",
       "  </thead>\n",
       "  <tbody>\n",
       "    <tr>\n",
       "      <th>0</th>\n",
       "      <td>7.742857</td>\n",
       "      <td>17.4</td>\n",
       "      <td>0.8</td>\n",
       "      <td>168.877551</td>\n",
       "      <td>337</td>\n",
       "      <td>45</td>\n",
       "      <td>65.897959</td>\n",
       "      <td>91</td>\n",
       "      <td>32</td>\n",
       "      <td>20.757143</td>\n",
       "      <td>46.0</td>\n",
       "      <td>7.3</td>\n",
       "    </tr>\n",
       "    <tr>\n",
       "      <th>1</th>\n",
       "      <td>10.000000</td>\n",
       "      <td>10.0</td>\n",
       "      <td>10.0</td>\n",
       "      <td>263.000000</td>\n",
       "      <td>263</td>\n",
       "      <td>263</td>\n",
       "      <td>48.000000</td>\n",
       "      <td>48</td>\n",
       "      <td>48</td>\n",
       "      <td>44.500000</td>\n",
       "      <td>44.5</td>\n",
       "      <td>44.5</td>\n",
       "    </tr>\n",
       "  </tbody>\n",
       "</table>\n",
       "</div>"
      ],
      "text/plain": [
       "                        Murder                 Assault             UrbanPop  \\\n",
       "                          mean   max   min        mean  max  min       mean   \n",
       "hierarchy_clusterId                                                           \n",
       "0                     7.742857  17.4   0.8  168.877551  337   45  65.897959   \n",
       "1                    10.000000  10.0  10.0  263.000000  263  263  48.000000   \n",
       "\n",
       "                                  Rape              \n",
       "                    max min       mean   max   min  \n",
       "hierarchy_clusterId                                 \n",
       "0                    91  32  20.757143  46.0   7.3  \n",
       "1                    48  48  44.500000  44.5  44.5  "
      ]
     },
     "execution_count": 12,
     "metadata": {},
     "output_type": "execute_result"
    }
   ],
   "source": [
    "data.groupby(['hierarchy_clusterId']).agg(['mean', 'max', 'min'])"
   ]
  },
  {
   "cell_type": "code",
   "execution_count": 13,
   "id": "d80bbdff",
   "metadata": {},
   "outputs": [
    {
     "data": {
      "text/html": [
       "<div>\n",
       "<style scoped>\n",
       "    .dataframe tbody tr th:only-of-type {\n",
       "        vertical-align: middle;\n",
       "    }\n",
       "\n",
       "    .dataframe tbody tr th {\n",
       "        vertical-align: top;\n",
       "    }\n",
       "\n",
       "    .dataframe thead th {\n",
       "        text-align: right;\n",
       "    }\n",
       "</style>\n",
       "<table border=\"1\" class=\"dataframe\">\n",
       "  <thead>\n",
       "    <tr style=\"text-align: right;\">\n",
       "      <th></th>\n",
       "      <th>Murder</th>\n",
       "      <th>Assault</th>\n",
       "      <th>UrbanPop</th>\n",
       "      <th>Rape</th>\n",
       "      <th>hierarchy_clusterId</th>\n",
       "    </tr>\n",
       "  </thead>\n",
       "  <tbody>\n",
       "    <tr>\n",
       "      <th>Alaska</th>\n",
       "      <td>10.0</td>\n",
       "      <td>263</td>\n",
       "      <td>48</td>\n",
       "      <td>44.5</td>\n",
       "      <td>1</td>\n",
       "    </tr>\n",
       "  </tbody>\n",
       "</table>\n",
       "</div>"
      ],
      "text/plain": [
       "        Murder  Assault  UrbanPop  Rape  hierarchy_clusterId\n",
       "Alaska    10.0      263        48  44.5                    1"
      ]
     },
     "execution_count": 13,
     "metadata": {},
     "output_type": "execute_result"
    }
   ],
   "source": [
    "data[data['hierarchy_clusterId'] == 1]"
   ]
  },
  {
   "cell_type": "code",
   "execution_count": 14,
   "id": "5a220bc0",
   "metadata": {},
   "outputs": [
    {
     "name": "stdout",
     "output_type": "stream",
     "text": [
      "                Murder  Assault  UrbanPop  Rape  hierarchy_clusterId\n",
      "Alabama           13.2      236        58  21.2                    0\n",
      "Arizona            8.1      294        80  31.0                    0\n",
      "Arkansas           8.8      190        50  19.5                    0\n",
      "California         9.0      276        91  40.6                    0\n",
      "Colorado           7.9      204        78  38.7                    0\n",
      "Connecticut        3.3      110        77  11.1                    0\n",
      "Delaware           5.9      238        72  15.8                    0\n",
      "Florida           15.4      335        80  31.9                    0\n",
      "Georgia           17.4      211        60  25.8                    0\n",
      "Hawaii             5.3       46        83  20.2                    0\n",
      "Idaho              2.6      120        54  14.2                    0\n",
      "Illinois          10.4      249        83  24.0                    0\n",
      "Indiana            7.2      113        65  21.0                    0\n",
      "Iowa               2.2       56        57  11.3                    0\n",
      "Kansas             6.0      115        66  18.0                    0\n",
      "Kentucky           9.7      109        52  16.3                    0\n",
      "Louisiana         15.4      249        66  22.2                    0\n",
      "Maine              2.1       83        51   7.8                    0\n",
      "Maryland          11.3      300        67  27.8                    0\n",
      "Massachusetts      4.4      149        85  16.3                    0\n",
      "Michigan          12.1      255        74  35.1                    0\n",
      "Minnesota          2.7       72        66  14.9                    0\n",
      "Mississippi       16.1      259        44  17.1                    0\n",
      "Missouri           9.0      178        70  28.2                    0\n",
      "Montana            6.0      109        53  16.4                    0\n",
      "Nebraska           4.3      102        62  16.5                    0\n",
      "Nevada            12.2      252        81  46.0                    0\n",
      "New Hampshire      2.1       57        56   9.5                    0\n",
      "New Jersey         7.4      159        89  18.8                    0\n",
      "New Mexico        11.4      285        70  32.1                    0\n",
      "New York          11.1      254        86  26.1                    0\n",
      "North Carolina    13.0      337        45  16.1                    0\n",
      "North Dakota       0.8       45        44   7.3                    0\n",
      "Ohio               7.3      120        75  21.4                    0\n",
      "Oklahoma           6.6      151        68  20.0                    0\n",
      "Oregon             4.9      159        67  29.3                    0\n",
      "Pennsylvania       6.3      106        72  14.9                    0\n",
      "Rhode Island       3.4      174        87   8.3                    0\n",
      "South Carolina    14.4      279        48  22.5                    0\n",
      "South Dakota       3.8       86        45  12.8                    0\n",
      "Tennessee         13.2      188        59  26.9                    0\n",
      "Texas             12.7      201        80  25.5                    0\n",
      "Utah               3.2      120        80  22.9                    0\n",
      "Vermont            2.2       48        32  11.2                    0\n",
      "Virginia           8.5      156        63  20.7                    0\n",
      "Washington         4.0      145        73  26.2                    0\n",
      "West Virginia      5.7       81        39   9.3                    0\n",
      "Wisconsin          2.6       53        66  10.8                    0\n",
      "Wyoming            6.8      161        60  15.6                    0\n",
      "---------------------------------------------------\n",
      "        Murder  Assault  UrbanPop  Rape  hierarchy_clusterId\n",
      "Alaska    10.0      263        48  44.5                    1\n",
      "---------------------------------------------------\n"
     ]
    }
   ],
   "source": [
    "for x,y in data.groupby(['hierarchy_clusterId']):\n",
    "    print(y)\n",
    "    print('---------------------------------------------------')"
   ]
  },
  {
   "cell_type": "code",
   "execution_count": 15,
   "id": "6c75924f",
   "metadata": {},
   "outputs": [],
   "source": [
    "models_performance = [('hierarchical',hier_model_scores[0][1])]"
   ]
  },
  {
   "cell_type": "markdown",
   "id": "8477cce6",
   "metadata": {},
   "source": [
    "### Trying GridSearch CV for linkage and no. of clusters"
   ]
  },
  {
   "cell_type": "code",
   "execution_count": 16,
   "id": "dac08811",
   "metadata": {},
   "outputs": [],
   "source": [
    "# from sklearn.model_selection import GridSearchCV\n",
    "# import numpy as np\n",
    "\n",
    "# model = AgglomerativeClustering()\n",
    "# clusters = np.array(range(2,11))\n",
    "# linkages = np.array(['single', 'complete', 'ward', 'average'])\n",
    "# param = dict(n_clusters=clusters, linkage=linkages)\n",
    "\n",
    "# grid = GridSearchCV(estimator=model, param_grid=param, scoring=silhouette_score)\n",
    "# grid.fit(scaled_data)"
   ]
  },
  {
   "cell_type": "code",
   "execution_count": 17,
   "id": "53169b3f",
   "metadata": {},
   "outputs": [],
   "source": [
    "# grid.best_estimator_"
   ]
  },
  {
   "cell_type": "code",
   "execution_count": 18,
   "id": "70dc34ce",
   "metadata": {},
   "outputs": [],
   "source": [
    "# grid.best_params_"
   ]
  },
  {
   "cell_type": "code",
   "execution_count": 19,
   "id": "d8c9dc33",
   "metadata": {},
   "outputs": [],
   "source": [
    "# grid.cv_results_"
   ]
  },
  {
   "cell_type": "markdown",
   "id": "0c9a9c12",
   "metadata": {},
   "source": [
    "### No benefit of using other linkages and no. of clusters combinations through gridsearchCV"
   ]
  },
  {
   "cell_type": "markdown",
   "id": "2b9e9b6c",
   "metadata": {},
   "source": [
    "## Dendrogram "
   ]
  },
  {
   "cell_type": "code",
   "execution_count": 20,
   "id": "71b31771",
   "metadata": {},
   "outputs": [
    {
     "data": {
      "image/png": "[encoded data removed]",
      "text/plain": [
       "<Figure size 432x288 with 1 Axes>"
      ]
     },
     "metadata": {
      "needs_background": "light"
     },
     "output_type": "display_data"
    }
   ],
   "source": [
    "from scipy.cluster import hierarchy\n",
    "\n",
    "hr = hierarchy.linkage(data, method='single')\n",
    "\n",
    "dn = hierarchy.dendrogram(hr)"
   ]
  },
  {
   "cell_type": "markdown",
   "id": "3dde13af",
   "metadata": {},
   "source": [
    "## K-Means Clustering"
   ]
  },
  {
   "cell_type": "markdown",
   "id": "17ba9198",
   "metadata": {},
   "source": [
    "### Applying hyper parameter tuning | Will choose the best no. of clusters\n"
   ]
  },
  {
   "cell_type": "code",
   "execution_count": 41,
   "id": "bb38b149",
   "metadata": {},
   "outputs": [
    {
     "data": {
      "text/plain": [
       "[(2, 104.96163315756871),\n",
       " (3, 80.08569526137275),\n",
       " (4, 57.55425863091104),\n",
       " (5, 50.33327385184907),\n",
       " (6, 44.259807638112314),\n",
       " (7, 40.912667222473445),\n",
       " (8, 35.695877063333725),\n",
       " (9, 32.57509993011513),\n",
       " (10, 29.25349891673461)]"
      ]
     },
     "execution_count": 41,
     "metadata": {},
     "output_type": "execute_result"
    }
   ],
   "source": [
    "from sklearn.cluster import KMeans\n",
    "\n",
    "wcss_tuple = []\n",
    "wcss = []\n",
    "silhouette = []\n",
    "\n",
    "for i in range(2,11):\n",
    "    model = KMeans(n_clusters=i, random_state=42)\n",
    "    model.fit(scaled_data)\n",
    "    # inertia is the WCSS (within cluster sum of squares) which we aim to be minimum\n",
    "    wcss_tuple.append((i, model.inertia_))\n",
    "    wcss.append(model.inertia_)\n",
    "    silhouette.append((i,silhouette_score(scaled_data, model.labels_)))\n",
    "    \n",
    "wcss_tuple"
   ]
  },
  {
   "cell_type": "code",
   "execution_count": 42,
   "id": "e037a3b7",
   "metadata": {},
   "outputs": [
    {
     "data": {
      "text/plain": [
       "[104.96163315756871,\n",
       " 80.08569526137275,\n",
       " 57.55425863091104,\n",
       " 50.33327385184907,\n",
       " 44.259807638112314,\n",
       " 40.912667222473445,\n",
       " 35.695877063333725,\n",
       " 32.57509993011513,\n",
       " 29.25349891673461]"
      ]
     },
     "execution_count": 42,
     "metadata": {},
     "output_type": "execute_result"
    }
   ],
   "source": [
    "wcss"
   ]
  },
  {
   "cell_type": "code",
   "execution_count": 43,
   "id": "c4d30cf5",
   "metadata": {},
   "outputs": [
    {
     "data": {
      "text/plain": [
       "[(2, 0.4084890326217641),\n",
       " (3, 0.30813622648945616),\n",
       " (4, 0.33968891433344395),\n",
       " (5, 0.2892698909578641),\n",
       " (6, 0.3005771754063692),\n",
       " (7, 0.2761342454285954),\n",
       " (8, 0.24606152983626525),\n",
       " (9, 0.2359060232768202),\n",
       " (10, 0.2636703762849359)]"
      ]
     },
     "execution_count": 43,
     "metadata": {},
     "output_type": "execute_result"
    }
   ],
   "source": [
    "silhouette"
   ]
  },
  {
   "cell_type": "markdown",
   "id": "cf0b85f8",
   "metadata": {},
   "source": [
    "### Visualizing through elbow plot"
   ]
  },
  {
   "cell_type": "code",
   "execution_count": 24,
   "id": "0c136274",
   "metadata": {},
   "outputs": [
    {
     "data": {
      "image/png": "[encoded data removed]",
      "text/plain": [
       "<Figure size 432x288 with 1 Axes>"
      ]
     },
     "metadata": {
      "needs_background": "light"
     },
     "output_type": "display_data"
    }
   ],
   "source": [
    "from matplotlib import pyplot as plt\n",
    "\n",
    "#plt.plot(range(2,11), ([i[1]] for i in wcss))\n",
    "plt.plot(range(2,11), wcss)\n",
    "\n",
    "plt.title('Elbow Plot')\n",
    "plt.xlabel('No. of clusters')\n",
    "plt.ylabel('WCSS')\n",
    "plt.show()\n",
    "\n",
    " "
   ]
  },
  {
   "cell_type": "markdown",
   "id": "0a7f1fcc",
   "metadata": {},
   "source": [
    "### Hence, will go with optimum no. of clusters = 4"
   ]
  },
  {
   "cell_type": "code",
   "execution_count": 25,
   "id": "1e74d938",
   "metadata": {},
   "outputs": [],
   "source": [
    "model_Kmeans = KMeans(n_clusters=4, random_state=42)\n",
    "\n",
    "data['K-Means-clusterId'] = model_Kmeans.fit_predict(scaled_data)\n"
   ]
  },
  {
   "cell_type": "code",
   "execution_count": 26,
   "id": "32130782",
   "metadata": {},
   "outputs": [
    {
     "data": {
      "text/plain": [
       "array([1, 2, 2, 1, 2, 2, 0, 0, 2, 1, 0, 3, 2, 0, 3, 0, 3, 1, 3, 2, 0, 2,\n",
       "       3, 1, 2, 3, 3, 2, 3, 0, 2, 2, 1, 3, 0, 0, 0, 0, 0, 1, 3, 1, 2, 0,\n",
       "       3, 0, 0, 3, 3, 0])"
      ]
     },
     "execution_count": 26,
     "metadata": {},
     "output_type": "execute_result"
    }
   ],
   "source": [
    "# Labels given to each datapoint by the model\n",
    "model_Kmeans.labels_"
   ]
  },
  {
   "cell_type": "code",
   "execution_count": 27,
   "id": "e745f24d",
   "metadata": {},
   "outputs": [
    {
     "name": "stdout",
     "output_type": "stream",
     "text": [
      "               Murder  Assault  UrbanPop  Rape  hierarchy_clusterId  \\\n",
      "Connecticut       3.3      110        77  11.1                    0   \n",
      "Delaware          5.9      238        72  15.8                    0   \n",
      "Hawaii            5.3       46        83  20.2                    0   \n",
      "Indiana           7.2      113        65  21.0                    0   \n",
      "Kansas            6.0      115        66  18.0                    0   \n",
      "Massachusetts     4.4      149        85  16.3                    0   \n",
      "New Jersey        7.4      159        89  18.8                    0   \n",
      "Ohio              7.3      120        75  21.4                    0   \n",
      "Oklahoma          6.6      151        68  20.0                    0   \n",
      "Oregon            4.9      159        67  29.3                    0   \n",
      "Pennsylvania      6.3      106        72  14.9                    0   \n",
      "Rhode Island      3.4      174        87   8.3                    0   \n",
      "Utah              3.2      120        80  22.9                    0   \n",
      "Virginia          8.5      156        63  20.7                    0   \n",
      "Washington        4.0      145        73  26.2                    0   \n",
      "Wyoming           6.8      161        60  15.6                    0   \n",
      "\n",
      "               K-Means-clusterId  \n",
      "Connecticut                    0  \n",
      "Delaware                       0  \n",
      "Hawaii                         0  \n",
      "Indiana                        0  \n",
      "Kansas                         0  \n",
      "Massachusetts                  0  \n",
      "New Jersey                     0  \n",
      "Ohio                           0  \n",
      "Oklahoma                       0  \n",
      "Oregon                         0  \n",
      "Pennsylvania                   0  \n",
      "Rhode Island                   0  \n",
      "Utah                           0  \n",
      "Virginia                       0  \n",
      "Washington                     0  \n",
      "Wyoming                        0  \n",
      "------------------------------------------------------------------\n",
      "                Murder  Assault  UrbanPop  Rape  hierarchy_clusterId  \\\n",
      "Alabama           13.2      236        58  21.2                    0   \n",
      "Arkansas           8.8      190        50  19.5                    0   \n",
      "Georgia           17.4      211        60  25.8                    0   \n",
      "Louisiana         15.4      249        66  22.2                    0   \n",
      "Mississippi       16.1      259        44  17.1                    0   \n",
      "North Carolina    13.0      337        45  16.1                    0   \n",
      "South Carolina    14.4      279        48  22.5                    0   \n",
      "Tennessee         13.2      188        59  26.9                    0   \n",
      "\n",
      "                K-Means-clusterId  \n",
      "Alabama                         1  \n",
      "Arkansas                        1  \n",
      "Georgia                         1  \n",
      "Louisiana                       1  \n",
      "Mississippi                     1  \n",
      "North Carolina                  1  \n",
      "South Carolina                  1  \n",
      "Tennessee                       1  \n",
      "------------------------------------------------------------------\n",
      "            Murder  Assault  UrbanPop  Rape  hierarchy_clusterId  \\\n",
      "Alaska        10.0      263        48  44.5                    1   \n",
      "Arizona        8.1      294        80  31.0                    0   \n",
      "California     9.0      276        91  40.6                    0   \n",
      "Colorado       7.9      204        78  38.7                    0   \n",
      "Florida       15.4      335        80  31.9                    0   \n",
      "Illinois      10.4      249        83  24.0                    0   \n",
      "Maryland      11.3      300        67  27.8                    0   \n",
      "Michigan      12.1      255        74  35.1                    0   \n",
      "Missouri       9.0      178        70  28.2                    0   \n",
      "Nevada        12.2      252        81  46.0                    0   \n",
      "New Mexico    11.4      285        70  32.1                    0   \n",
      "New York      11.1      254        86  26.1                    0   \n",
      "Texas         12.7      201        80  25.5                    0   \n",
      "\n",
      "            K-Means-clusterId  \n",
      "Alaska                      2  \n",
      "Arizona                     2  \n",
      "California                  2  \n",
      "Colorado                    2  \n",
      "Florida                     2  \n",
      "Illinois                    2  \n",
      "Maryland                    2  \n",
      "Michigan                    2  \n",
      "Missouri                    2  \n",
      "Nevada                      2  \n",
      "New Mexico                  2  \n",
      "New York                    2  \n",
      "Texas                       2  \n",
      "------------------------------------------------------------------\n",
      "               Murder  Assault  UrbanPop  Rape  hierarchy_clusterId  \\\n",
      "Idaho             2.6      120        54  14.2                    0   \n",
      "Iowa              2.2       56        57  11.3                    0   \n",
      "Kentucky          9.7      109        52  16.3                    0   \n",
      "Maine             2.1       83        51   7.8                    0   \n",
      "Minnesota         2.7       72        66  14.9                    0   \n",
      "Montana           6.0      109        53  16.4                    0   \n",
      "Nebraska          4.3      102        62  16.5                    0   \n",
      "New Hampshire     2.1       57        56   9.5                    0   \n",
      "North Dakota      0.8       45        44   7.3                    0   \n",
      "South Dakota      3.8       86        45  12.8                    0   \n",
      "Vermont           2.2       48        32  11.2                    0   \n",
      "West Virginia     5.7       81        39   9.3                    0   \n",
      "Wisconsin         2.6       53        66  10.8                    0   \n",
      "\n",
      "               K-Means-clusterId  \n",
      "Idaho                          3  \n",
      "Iowa                           3  \n",
      "Kentucky                       3  \n",
      "Maine                          3  \n",
      "Minnesota                      3  \n",
      "Montana                        3  \n",
      "Nebraska                       3  \n",
      "New Hampshire                  3  \n",
      "North Dakota                   3  \n",
      "South Dakota                   3  \n",
      "Vermont                        3  \n",
      "West Virginia                  3  \n",
      "Wisconsin                      3  \n",
      "------------------------------------------------------------------\n"
     ]
    }
   ],
   "source": [
    "for x,y in data.groupby(['K-Means-clusterId']):\n",
    "    print(y)\n",
    "    print('------------------------------------------------------------------')"
   ]
  },
  {
   "cell_type": "code",
   "execution_count": 34,
   "id": "ba0d4101",
   "metadata": {},
   "outputs": [
    {
     "data": {
      "text/html": [
       "<div>\n",
       "<style scoped>\n",
       "    .dataframe tbody tr th:only-of-type {\n",
       "        vertical-align: middle;\n",
       "    }\n",
       "\n",
       "    .dataframe tbody tr th {\n",
       "        vertical-align: top;\n",
       "    }\n",
       "\n",
       "    .dataframe thead tr th {\n",
       "        text-align: left;\n",
       "    }\n",
       "\n",
       "    .dataframe thead tr:last-of-type th {\n",
       "        text-align: right;\n",
       "    }\n",
       "</style>\n",
       "<table border=\"1\" class=\"dataframe\">\n",
       "  <thead>\n",
       "    <tr>\n",
       "      <th></th>\n",
       "      <th colspan=\"3\" halign=\"left\">Murder</th>\n",
       "      <th colspan=\"3\" halign=\"left\">Assault</th>\n",
       "      <th colspan=\"3\" halign=\"left\">UrbanPop</th>\n",
       "      <th colspan=\"3\" halign=\"left\">Rape</th>\n",
       "      <th colspan=\"3\" halign=\"left\">hierarchy_clusterId</th>\n",
       "    </tr>\n",
       "    <tr>\n",
       "      <th></th>\n",
       "      <th>mean</th>\n",
       "      <th>max</th>\n",
       "      <th>min</th>\n",
       "      <th>mean</th>\n",
       "      <th>max</th>\n",
       "      <th>min</th>\n",
       "      <th>mean</th>\n",
       "      <th>max</th>\n",
       "      <th>min</th>\n",
       "      <th>mean</th>\n",
       "      <th>max</th>\n",
       "      <th>min</th>\n",
       "      <th>mean</th>\n",
       "      <th>max</th>\n",
       "      <th>min</th>\n",
       "    </tr>\n",
       "    <tr>\n",
       "      <th>K-Means-clusterId</th>\n",
       "      <th></th>\n",
       "      <th></th>\n",
       "      <th></th>\n",
       "      <th></th>\n",
       "      <th></th>\n",
       "      <th></th>\n",
       "      <th></th>\n",
       "      <th></th>\n",
       "      <th></th>\n",
       "      <th></th>\n",
       "      <th></th>\n",
       "      <th></th>\n",
       "      <th></th>\n",
       "      <th></th>\n",
       "      <th></th>\n",
       "    </tr>\n",
       "  </thead>\n",
       "  <tbody>\n",
       "    <tr>\n",
       "      <th>0</th>\n",
       "      <td>5.656250</td>\n",
       "      <td>8.5</td>\n",
       "      <td>3.2</td>\n",
       "      <td>138.875000</td>\n",
       "      <td>238</td>\n",
       "      <td>46</td>\n",
       "      <td>73.875000</td>\n",
       "      <td>89</td>\n",
       "      <td>60</td>\n",
       "      <td>18.781250</td>\n",
       "      <td>29.3</td>\n",
       "      <td>8.3</td>\n",
       "      <td>0.000000</td>\n",
       "      <td>0</td>\n",
       "      <td>0</td>\n",
       "    </tr>\n",
       "    <tr>\n",
       "      <th>1</th>\n",
       "      <td>13.937500</td>\n",
       "      <td>17.4</td>\n",
       "      <td>8.8</td>\n",
       "      <td>243.625000</td>\n",
       "      <td>337</td>\n",
       "      <td>188</td>\n",
       "      <td>53.750000</td>\n",
       "      <td>66</td>\n",
       "      <td>44</td>\n",
       "      <td>21.412500</td>\n",
       "      <td>26.9</td>\n",
       "      <td>16.1</td>\n",
       "      <td>0.000000</td>\n",
       "      <td>0</td>\n",
       "      <td>0</td>\n",
       "    </tr>\n",
       "    <tr>\n",
       "      <th>2</th>\n",
       "      <td>10.815385</td>\n",
       "      <td>15.4</td>\n",
       "      <td>7.9</td>\n",
       "      <td>257.384615</td>\n",
       "      <td>335</td>\n",
       "      <td>178</td>\n",
       "      <td>76.000000</td>\n",
       "      <td>91</td>\n",
       "      <td>48</td>\n",
       "      <td>33.192308</td>\n",
       "      <td>46.0</td>\n",
       "      <td>24.0</td>\n",
       "      <td>0.076923</td>\n",
       "      <td>1</td>\n",
       "      <td>0</td>\n",
       "    </tr>\n",
       "    <tr>\n",
       "      <th>3</th>\n",
       "      <td>3.600000</td>\n",
       "      <td>9.7</td>\n",
       "      <td>0.8</td>\n",
       "      <td>78.538462</td>\n",
       "      <td>120</td>\n",
       "      <td>45</td>\n",
       "      <td>52.076923</td>\n",
       "      <td>66</td>\n",
       "      <td>32</td>\n",
       "      <td>12.176923</td>\n",
       "      <td>16.5</td>\n",
       "      <td>7.3</td>\n",
       "      <td>0.000000</td>\n",
       "      <td>0</td>\n",
       "      <td>0</td>\n",
       "    </tr>\n",
       "  </tbody>\n",
       "</table>\n",
       "</div>"
      ],
      "text/plain": [
       "                      Murder                Assault             UrbanPop      \\\n",
       "                        mean   max  min        mean  max  min       mean max   \n",
       "K-Means-clusterId                                                              \n",
       "0                   5.656250   8.5  3.2  138.875000  238   46  73.875000  89   \n",
       "1                  13.937500  17.4  8.8  243.625000  337  188  53.750000  66   \n",
       "2                  10.815385  15.4  7.9  257.384615  335  178  76.000000  91   \n",
       "3                   3.600000   9.7  0.8   78.538462  120   45  52.076923  66   \n",
       "\n",
       "                            Rape             hierarchy_clusterId          \n",
       "                  min       mean   max   min                mean max min  \n",
       "K-Means-clusterId                                                         \n",
       "0                  60  18.781250  29.3   8.3            0.000000   0   0  \n",
       "1                  44  21.412500  26.9  16.1            0.000000   0   0  \n",
       "2                  48  33.192308  46.0  24.0            0.076923   1   0  \n",
       "3                  32  12.176923  16.5   7.3            0.000000   0   0  "
      ]
     },
     "execution_count": 34,
     "metadata": {},
     "output_type": "execute_result"
    }
   ],
   "source": [
    "# Analysing the characteristics of each cluster\n",
    "data.groupby(['K-Means-clusterId']).agg(['mean','max','min'])"
   ]
  },
  {
   "cell_type": "code",
   "execution_count": 36,
   "id": "09c7d388",
   "metadata": {},
   "outputs": [
    {
     "data": {
      "text/html": [
       "<div>\n",
       "<style scoped>\n",
       "    .dataframe tbody tr th:only-of-type {\n",
       "        vertical-align: middle;\n",
       "    }\n",
       "\n",
       "    .dataframe tbody tr th {\n",
       "        vertical-align: top;\n",
       "    }\n",
       "\n",
       "    .dataframe thead th {\n",
       "        text-align: right;\n",
       "    }\n",
       "</style>\n",
       "<table border=\"1\" class=\"dataframe\">\n",
       "  <thead>\n",
       "    <tr style=\"text-align: right;\">\n",
       "      <th></th>\n",
       "      <th>Murder</th>\n",
       "      <th>Assault</th>\n",
       "      <th>UrbanPop</th>\n",
       "      <th>Rape</th>\n",
       "      <th>hierarchy_clusterId</th>\n",
       "    </tr>\n",
       "    <tr>\n",
       "      <th>K-Means-clusterId</th>\n",
       "      <th></th>\n",
       "      <th></th>\n",
       "      <th></th>\n",
       "      <th></th>\n",
       "      <th></th>\n",
       "    </tr>\n",
       "  </thead>\n",
       "  <tbody>\n",
       "    <tr>\n",
       "      <th>0</th>\n",
       "      <td>16</td>\n",
       "      <td>16</td>\n",
       "      <td>16</td>\n",
       "      <td>16</td>\n",
       "      <td>16</td>\n",
       "    </tr>\n",
       "    <tr>\n",
       "      <th>1</th>\n",
       "      <td>8</td>\n",
       "      <td>8</td>\n",
       "      <td>8</td>\n",
       "      <td>8</td>\n",
       "      <td>8</td>\n",
       "    </tr>\n",
       "    <tr>\n",
       "      <th>2</th>\n",
       "      <td>13</td>\n",
       "      <td>13</td>\n",
       "      <td>13</td>\n",
       "      <td>13</td>\n",
       "      <td>13</td>\n",
       "    </tr>\n",
       "    <tr>\n",
       "      <th>3</th>\n",
       "      <td>13</td>\n",
       "      <td>13</td>\n",
       "      <td>13</td>\n",
       "      <td>13</td>\n",
       "      <td>13</td>\n",
       "    </tr>\n",
       "  </tbody>\n",
       "</table>\n",
       "</div>"
      ],
      "text/plain": [
       "                   Murder  Assault  UrbanPop  Rape  hierarchy_clusterId\n",
       "K-Means-clusterId                                                      \n",
       "0                      16       16        16    16                   16\n",
       "1                       8        8         8     8                    8\n",
       "2                      13       13        13    13                   13\n",
       "3                      13       13        13    13                   13"
      ]
     },
     "execution_count": 36,
     "metadata": {},
     "output_type": "execute_result"
    }
   ],
   "source": [
    "data.groupby(['K-Means-clusterId']).count()"
   ]
  },
  {
   "cell_type": "code",
   "execution_count": 28,
   "id": "3af1469b",
   "metadata": {},
   "outputs": [
    {
     "data": {
      "text/plain": [
       "0.33968891433344395"
      ]
     },
     "execution_count": 28,
     "metadata": {},
     "output_type": "execute_result"
    }
   ],
   "source": [
    "# Performance of the model | Range is from -1 to +1. It should be maximum and near to 1. \n",
    "# It is definately better than hierarchical clustering\n",
    "score = silhouette_score(scaled_data, model_Kmeans.labels_)\n",
    "score\n"
   ]
  },
  {
   "cell_type": "code",
   "execution_count": 29,
   "id": "bd9790a2",
   "metadata": {},
   "outputs": [
    {
     "data": {
      "text/plain": [
       "[('hierarchical', 0.23455598753159795), ('K-Means', 0.33968891433344395)]"
      ]
     },
     "execution_count": 29,
     "metadata": {},
     "output_type": "execute_result"
    }
   ],
   "source": [
    "# storing the performances of each clustering algorithm\n",
    "models_performance.append(('K-Means',score))\n",
    "models_performance"
   ]
  },
  {
   "cell_type": "code",
   "execution_count": 30,
   "id": "abed0424",
   "metadata": {},
   "outputs": [
    {
     "data": {
      "text/plain": [
       "57.55425863091104"
      ]
     },
     "execution_count": 30,
     "metadata": {},
     "output_type": "execute_result"
    }
   ],
   "source": [
    "# wcss for the model (Within cluster sum of squares) | should be minimum\n",
    "model_Kmeans.inertia_"
   ]
  },
  {
   "cell_type": "code",
   "execution_count": 33,
   "id": "781f3fc1",
   "metadata": {},
   "outputs": [
    {
     "data": {
      "image/png": "[encoded data removed]",
      "text/plain": [
       "<Figure size 360x720 with 1 Axes>"
      ]
     },
     "metadata": {
      "needs_background": "light"
     },
     "output_type": "display_data"
    }
   ],
   "source": [
    "# Plotting all data points corresponding to 3 clusters\n",
    "plt.figure(figsize=(5,10))\n",
    "plt.scatter(data['K-Means-clusterId'], data.index, c=data['K-Means-clusterId'])\n",
    "plt.xticks([0,1,2,3])\n",
    "plt.show()\n",
    "plt.legend()"
   ]
  },
  {
   "cell_type": "markdown",
   "id": "e8816ef2",
   "metadata": {},
   "source": [
    "## DB Scan Clustering"
   ]
  },
  {
   "cell_type": "code",
   "execution_count": 31,
   "id": "a44bf38b",
   "metadata": {},
   "outputs": [
    {
     "data": {
      "text/html": [
       "<div>\n",
       "<style scoped>\n",
       "    .dataframe tbody tr th:only-of-type {\n",
       "        vertical-align: middle;\n",
       "    }\n",
       "\n",
       "    .dataframe tbody tr th {\n",
       "        vertical-align: top;\n",
       "    }\n",
       "\n",
       "    .dataframe thead th {\n",
       "        text-align: right;\n",
       "    }\n",
       "</style>\n",
       "<table border=\"1\" class=\"dataframe\">\n",
       "  <thead>\n",
       "    <tr style=\"text-align: right;\">\n",
       "      <th></th>\n",
       "      <th>Murder</th>\n",
       "      <th>Assault</th>\n",
       "      <th>UrbanPop</th>\n",
       "      <th>Rape</th>\n",
       "      <th>hierarchy_clusterId</th>\n",
       "      <th>K-Means-clusterId</th>\n",
       "    </tr>\n",
       "  </thead>\n",
       "  <tbody>\n",
       "    <tr>\n",
       "      <th>Alabama</th>\n",
       "      <td>13.2</td>\n",
       "      <td>236</td>\n",
       "      <td>58</td>\n",
       "      <td>21.2</td>\n",
       "      <td>0</td>\n",
       "      <td>1</td>\n",
       "    </tr>\n",
       "    <tr>\n",
       "      <th>Alaska</th>\n",
       "      <td>10.0</td>\n",
       "      <td>263</td>\n",
       "      <td>48</td>\n",
       "      <td>44.5</td>\n",
       "      <td>1</td>\n",
       "      <td>2</td>\n",
       "    </tr>\n",
       "    <tr>\n",
       "      <th>Arizona</th>\n",
       "      <td>8.1</td>\n",
       "      <td>294</td>\n",
       "      <td>80</td>\n",
       "      <td>31.0</td>\n",
       "      <td>0</td>\n",
       "      <td>2</td>\n",
       "    </tr>\n",
       "    <tr>\n",
       "      <th>Arkansas</th>\n",
       "      <td>8.8</td>\n",
       "      <td>190</td>\n",
       "      <td>50</td>\n",
       "      <td>19.5</td>\n",
       "      <td>0</td>\n",
       "      <td>1</td>\n",
       "    </tr>\n",
       "    <tr>\n",
       "      <th>California</th>\n",
       "      <td>9.0</td>\n",
       "      <td>276</td>\n",
       "      <td>91</td>\n",
       "      <td>40.6</td>\n",
       "      <td>0</td>\n",
       "      <td>2</td>\n",
       "    </tr>\n",
       "  </tbody>\n",
       "</table>\n",
       "</div>"
      ],
      "text/plain": [
       "            Murder  Assault  UrbanPop  Rape  hierarchy_clusterId  \\\n",
       "Alabama       13.2      236        58  21.2                    0   \n",
       "Alaska        10.0      263        48  44.5                    1   \n",
       "Arizona        8.1      294        80  31.0                    0   \n",
       "Arkansas       8.8      190        50  19.5                    0   \n",
       "California     9.0      276        91  40.6                    0   \n",
       "\n",
       "            K-Means-clusterId  \n",
       "Alabama                     1  \n",
       "Alaska                      2  \n",
       "Arizona                     2  \n",
       "Arkansas                    1  \n",
       "California                  2  "
      ]
     },
     "execution_count": 31,
     "metadata": {},
     "output_type": "execute_result"
    }
   ],
   "source": [
    "data.head()"
   ]
  },
  {
   "cell_type": "code",
   "execution_count": 35,
   "id": "74993f51",
   "metadata": {},
   "outputs": [],
   "source": [
    "from sklearn.cluster import DBSCAN\n",
    "from sklearn.model_selection import GridSearchCV\n",
    "\n",
    "model = DBSCAN()\n",
    "params = dict(min_samples = [2,5,8,12,15], eps = [0.5, 1, 1.5])"
   ]
  },
  {
   "cell_type": "code",
   "execution_count": null,
   "id": "85d45e74",
   "metadata": {},
   "outputs": [],
   "source": []
  }
 ],
 "metadata": {
  "kernelspec": {
   "display_name": "Python 3 (ipykernel)",
   "language": "python",
   "name": "python3"
  },
  "language_info": {
   "codemirror_mode": {
    "name": "ipython",
    "version": 3
   },
   "file_extension": ".py",
   "mimetype": "text/x-python",
   "name": "python",
   "nbconvert_exporter": "python",
   "pygments_lexer": "ipython3",
   "version": "3.9.12"
  }
 },
 "nbformat": 4,
 "nbformat_minor": 5
}
